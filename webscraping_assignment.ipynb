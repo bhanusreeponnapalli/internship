{
 "cells": [
  {
   "cell_type": "code",
   "execution_count": 1,
   "id": "53cb2895",
   "metadata": {},
   "outputs": [],
   "source": [
    "import requests\n",
    "from bs4 import BeautifulSoup\n"
   ]
  },
  {
   "cell_type": "markdown",
   "id": "9fbe085e",
   "metadata": {},
   "source": [
    "# 1. Write a python program to display all the header tags from wikipedia.org"
   ]
  },
  {
   "cell_type": "code",
   "execution_count": 2,
   "id": "39059f9e",
   "metadata": {},
   "outputs": [
    {
     "data": {
      "text/plain": [
       "<Response [200]>"
      ]
     },
     "execution_count": 2,
     "metadata": {},
     "output_type": "execute_result"
    }
   ],
   "source": [
    "# request for access\n",
    "\n",
    "wiki = requests.get('https://en.wikipedia.org/wiki/Main_Page')\n",
    "wiki\n"
   ]
  },
  {
   "cell_type": "code",
   "execution_count": 5,
   "id": "a7e468d1",
   "metadata": {},
   "outputs": [],
   "source": [
    "# extracting the hole html page\n",
    "\n",
    "html_wiki = BeautifulSoup(wiki.content)\n"
   ]
  },
  {
   "cell_type": "code",
   "execution_count": 6,
   "id": "f3e30924",
   "metadata": {},
   "outputs": [
    {
     "name": "stdout",
     "output_type": "stream",
     "text": [
      "<h2 class=\"mp-h2\" id=\"mp-tfa-h2\"><span id=\"From_today.27s_featured_article\"></span><span class=\"mw-headline\" id=\"From_today's_featured_article\">From today's featured article</span></h2>\n",
      "<h2 class=\"mp-h2\" id=\"mp-dyk-h2\"><span class=\"mw-headline\" id=\"Did_you_know_...\">Did you know ...</span></h2>\n",
      "<h2 class=\"mp-h2\" id=\"mp-itn-h2\"><span class=\"mw-headline\" id=\"In_the_news\">In the news</span></h2>\n",
      "<h2 class=\"mp-h2\" id=\"mp-otd-h2\"><span class=\"mw-headline\" id=\"On_this_day\">On this day</span></h2>\n",
      "<h2 class=\"mp-h2\" id=\"mp-tfp-h2\"><span id=\"Today.27s_featured_picture\"></span><span class=\"mw-headline\" id=\"Today's_featured_picture\">Today's featured picture</span></h2>\n",
      "<h2 class=\"mp-h2\" id=\"mp-other\"><span class=\"mw-headline\" id=\"Other_areas_of_Wikipedia\">Other areas of Wikipedia</span></h2>\n",
      "<h2 class=\"mp-h2\" id=\"mp-sister\"><span id=\"Wikipedia.27s_sister_projects\"></span><span class=\"mw-headline\" id=\"Wikipedia's_sister_projects\">Wikipedia's sister projects</span></h2>\n",
      "<h2 class=\"mp-h2\" id=\"mp-lang\"><span class=\"mw-headline\" id=\"Wikipedia_languages\">Wikipedia languages</span></h2>\n"
     ]
    },
    {
     "data": {
      "text/plain": [
       "[\"From today's featured article\",\n",
       " 'Did you know\\xa0...',\n",
       " 'In the news',\n",
       " 'On this day',\n",
       " \"Today's featured picture\",\n",
       " 'Other areas of Wikipedia',\n",
       " \"Wikipedia's sister projects\",\n",
       " 'Wikipedia languages']"
      ]
     },
     "execution_count": 6,
     "metadata": {},
     "output_type": "execute_result"
    }
   ],
   "source": [
    "# getting the header tag data\n",
    "\n",
    "headers_tags = []\n",
    "header = []\n",
    "\n",
    "for i in html_wiki.find_all('h2',class_='mp-h2'):\n",
    "    headers_tags.append(i)\n",
    "    print(i)\n",
    "    header.append(i.text)\n",
    "    \n",
    "header"
   ]
  },
  {
   "cell_type": "markdown",
   "id": "ef9f659a",
   "metadata": {},
   "source": [
    "#  2.Write a python program to display IMDB's top rated 100 Movies data(i.e name,rating and year of relase)and make data frame\n",
    " "
   ]
  },
  {
   "cell_type": "code",
   "execution_count": 7,
   "id": "70cee0e2",
   "metadata": {},
   "outputs": [
    {
     "data": {
      "text/plain": [
       "<Response [200]>"
      ]
     },
     "execution_count": 7,
     "metadata": {},
     "output_type": "execute_result"
    }
   ],
   "source": [
    "# request for access\n",
    "\n",
    "page = requests.get('https://www.imdb.com/search/title/?count=100&groups=top_1000&sort=user_rating')\n",
    "page"
   ]
  },
  {
   "cell_type": "code",
   "execution_count": 8,
   "id": "af21583e",
   "metadata": {},
   "outputs": [],
   "source": [
    "# Getting all the HTML content to page\n",
    "\n",
    "soup = BeautifulSoup(page.content)\n"
   ]
  },
  {
   "cell_type": "code",
   "execution_count": 9,
   "id": "54a2cb65",
   "metadata": {},
   "outputs": [
    {
     "data": {
      "text/plain": [
       "['Jai Bhim',\n",
       " 'The Shawshank Redemption',\n",
       " 'The Godfather',\n",
       " 'Soorarai Pottru',\n",
       " 'The Dark Knight',\n",
       " 'The Godfather: Part II',\n",
       " '12 Angry Men',\n",
       " 'The Lord of the Rings: The Return of the King',\n",
       " 'Pulp Fiction',\n",
       " \"Schindler's List\",\n",
       " 'Inception',\n",
       " 'Fight Club',\n",
       " 'The Lord of the Rings: The Fellowship of the Ring',\n",
       " 'Forrest Gump',\n",
       " 'Il buono, il brutto, il cattivo',\n",
       " 'Spider-Man: No Way Home',\n",
       " 'Dara iz Jasenovca',\n",
       " 'Shershaah',\n",
       " 'Sardar Udham',\n",
       " 'The Lord of the Rings: The Two Towers',\n",
       " 'The Matrix',\n",
       " 'Goodfellas',\n",
       " 'Star Wars: Episode V - The Empire Strikes Back',\n",
       " \"One Flew Over the Cuckoo's Nest\",\n",
       " 'Gisaengchung',\n",
       " 'Drishyam 2',\n",
       " 'Interstellar',\n",
       " 'Cidade de Deus',\n",
       " 'Sen to Chihiro no kamikakushi',\n",
       " 'Saving Private Ryan',\n",
       " 'The Green Mile',\n",
       " 'La vita è bella',\n",
       " 'Se7en',\n",
       " 'The Silence of the Lambs',\n",
       " 'Star Wars',\n",
       " 'Seppuku',\n",
       " 'Shichinin no samurai',\n",
       " \"It's a Wonderful Life\",\n",
       " '96',\n",
       " 'Whiplash',\n",
       " 'The Intouchables',\n",
       " 'The Prestige',\n",
       " 'The Departed',\n",
       " 'The Pianist',\n",
       " 'Gladiator',\n",
       " 'American History X',\n",
       " 'The Usual Suspects',\n",
       " 'Léon',\n",
       " 'The Lion King',\n",
       " 'Terminator 2: Judgment Day',\n",
       " 'Nuovo Cinema Paradiso',\n",
       " 'Hotaru no haka',\n",
       " 'Back to the Future',\n",
       " 'Once Upon a Time in the West',\n",
       " 'Psycho',\n",
       " 'Rear Window',\n",
       " 'Casablanca',\n",
       " 'Modern Times',\n",
       " 'City Lights',\n",
       " 'Hamilton',\n",
       " 'Capharnaüm',\n",
       " 'Joker',\n",
       " 'Ratsasan',\n",
       " 'Ayla: The Daughter of War',\n",
       " 'Kimi no na wa.',\n",
       " 'Dangal',\n",
       " 'Spider-Man: Into the Spider-Verse',\n",
       " 'Avengers: Endgame',\n",
       " 'Avengers: Infinity War',\n",
       " 'Coco',\n",
       " 'Django Unchained',\n",
       " 'The Dark Knight Rises',\n",
       " '3 Idiots',\n",
       " 'Taare Zameen Par',\n",
       " 'WALL·E',\n",
       " 'The Lives of Others',\n",
       " 'Oldeuboi',\n",
       " 'Memento',\n",
       " 'Mononoke-hime',\n",
       " 'Raiders of the Lost Ark',\n",
       " 'The Shining',\n",
       " 'Apocalypse Now',\n",
       " 'Alien',\n",
       " 'Tengoku to jigoku',\n",
       " 'Dr. Strangelove or: How I Learned to Stop Worrying and Love the Bomb',\n",
       " 'Witness for the Prosecution',\n",
       " 'Paths of Glory',\n",
       " 'Pather Panchali',\n",
       " 'Sunset Blvd.',\n",
       " 'The Great Dictator',\n",
       " 'Chhichhore',\n",
       " '1917',\n",
       " 'Uri: The Surgical Strike',\n",
       " 'Tumbbad',\n",
       " 'K.G.F: Chapter 1',\n",
       " 'Vikram Vedha',\n",
       " 'Drishyam',\n",
       " 'Jagten',\n",
       " 'Jodaeiye Nader az Simin',\n",
       " 'Incendies']"
      ]
     },
     "execution_count": 9,
     "metadata": {},
     "output_type": "execute_result"
    }
   ],
   "source": [
    "# Getting movie names\n",
    "\n",
    "Movie_name = []\n",
    "for i in soup.find_all('h3',class_='lister-item-header'):\n",
    "    Movie_name.append(i.a.text.replace('\\n',''))\n",
    "\n",
    "    \n",
    "Movie_name\n"
   ]
  },
  {
   "cell_type": "code",
   "execution_count": 10,
   "id": "1cb1ea10",
   "metadata": {},
   "outputs": [
    {
     "data": {
      "text/plain": [
       "['9.3',\n",
       " '9.3',\n",
       " '9.2',\n",
       " '9.1',\n",
       " '9.0',\n",
       " '9.0',\n",
       " '9.0',\n",
       " '8.9',\n",
       " '8.9',\n",
       " '8.9',\n",
       " '8.8',\n",
       " '8.8',\n",
       " '8.8',\n",
       " '8.8',\n",
       " '8.8',\n",
       " '8.7',\n",
       " '8.7',\n",
       " '8.7',\n",
       " '8.7',\n",
       " '8.7',\n",
       " '8.7',\n",
       " '8.7',\n",
       " '8.7',\n",
       " '8.7',\n",
       " '8.6',\n",
       " '8.6',\n",
       " '8.6',\n",
       " '8.6',\n",
       " '8.6',\n",
       " '8.6',\n",
       " '8.6',\n",
       " '8.6',\n",
       " '8.6',\n",
       " '8.6',\n",
       " '8.6',\n",
       " '8.6',\n",
       " '8.6',\n",
       " '8.6',\n",
       " '8.5',\n",
       " '8.5',\n",
       " '8.5',\n",
       " '8.5',\n",
       " '8.5',\n",
       " '8.5',\n",
       " '8.5',\n",
       " '8.5',\n",
       " '8.5',\n",
       " '8.5',\n",
       " '8.5',\n",
       " '8.5',\n",
       " '8.5',\n",
       " '8.5',\n",
       " '8.5',\n",
       " '8.5',\n",
       " '8.5',\n",
       " '8.5',\n",
       " '8.5',\n",
       " '8.5',\n",
       " '8.5',\n",
       " '8.4',\n",
       " '8.4',\n",
       " '8.4',\n",
       " '8.4',\n",
       " '8.4',\n",
       " '8.4',\n",
       " '8.4',\n",
       " '8.4',\n",
       " '8.4',\n",
       " '8.4',\n",
       " '8.4',\n",
       " '8.4',\n",
       " '8.4',\n",
       " '8.4',\n",
       " '8.4',\n",
       " '8.4',\n",
       " '8.4',\n",
       " '8.4',\n",
       " '8.4',\n",
       " '8.4',\n",
       " '8.4',\n",
       " '8.4',\n",
       " '8.4',\n",
       " '8.4',\n",
       " '8.4',\n",
       " '8.4',\n",
       " '8.4',\n",
       " '8.4',\n",
       " '8.4',\n",
       " '8.4',\n",
       " '8.4',\n",
       " '8.3',\n",
       " '8.3',\n",
       " '8.3',\n",
       " '8.3',\n",
       " '8.3',\n",
       " '8.3',\n",
       " '8.3',\n",
       " '8.3',\n",
       " '8.3',\n",
       " '8.3']"
      ]
     },
     "execution_count": 10,
     "metadata": {},
     "output_type": "execute_result"
    }
   ],
   "source": [
    "# Rating\n",
    "\n",
    "Rating = []\n",
    "for i in soup.find_all('div',class_='inline-block ratings-imdb-rating'):\n",
    "    Rating.append(i.text.replace('\\n',''))\n",
    "    \n",
    "Rating"
   ]
  },
  {
   "cell_type": "code",
   "execution_count": 11,
   "id": "df2c4358",
   "metadata": {},
   "outputs": [
    {
     "data": {
      "text/plain": [
       "['(2021)',\n",
       " '(1994)',\n",
       " '(1972)',\n",
       " '(2020)',\n",
       " '(2008)',\n",
       " '(1974)',\n",
       " '(1957)',\n",
       " '(2003)',\n",
       " '(1994)',\n",
       " '(1993)',\n",
       " '(2010)',\n",
       " '(1999)',\n",
       " '(2001)',\n",
       " '(1994)',\n",
       " '(1966)',\n",
       " '(2021)',\n",
       " '(2020)',\n",
       " '(2021)',\n",
       " '(2021)',\n",
       " '(2002)',\n",
       " '(1999)',\n",
       " '(1990)',\n",
       " '(1980)',\n",
       " '(1975)',\n",
       " '(2019)',\n",
       " '(2021)',\n",
       " '(2014)',\n",
       " '(2002)',\n",
       " '(2001)',\n",
       " '(1998)',\n",
       " '(1999)',\n",
       " '(1997)',\n",
       " '(1995)',\n",
       " '(1991)',\n",
       " '(1977)',\n",
       " '(1962)',\n",
       " '(1954)',\n",
       " '(1946)',\n",
       " '(II) (2018)',\n",
       " '(2014)',\n",
       " '(2011)',\n",
       " '(2006)',\n",
       " '(2006)',\n",
       " '(2002)',\n",
       " '(2000)',\n",
       " '(1998)',\n",
       " '(1995)',\n",
       " '(1994)',\n",
       " '(1994)',\n",
       " '(1991)',\n",
       " '(1988)',\n",
       " '(1988)',\n",
       " '(1985)',\n",
       " '(1968)',\n",
       " '(1960)',\n",
       " '(1954)',\n",
       " '(1942)',\n",
       " '(1936)',\n",
       " '(1931)',\n",
       " '(2020)',\n",
       " '(2018)',\n",
       " '(I) (2019)',\n",
       " '(2018)',\n",
       " '(2017)',\n",
       " '(2016)',\n",
       " '(2016)',\n",
       " '(2018)',\n",
       " '(2019)',\n",
       " '(2018)',\n",
       " '(I) (2017)',\n",
       " '(2012)',\n",
       " '(2012)',\n",
       " '(2009)',\n",
       " '(2007)',\n",
       " '(2008)',\n",
       " '(2006)',\n",
       " '(2003)',\n",
       " '(2000)',\n",
       " '(1997)',\n",
       " '(1981)',\n",
       " '(1980)',\n",
       " '(1979)',\n",
       " '(1979)',\n",
       " '(1963)',\n",
       " '(1964)',\n",
       " '(1957)',\n",
       " '(1957)',\n",
       " '(1955)',\n",
       " '(1950)',\n",
       " '(1940)',\n",
       " '(2019)',\n",
       " '(2019)',\n",
       " '(2019)',\n",
       " '(2018)',\n",
       " '(2018)',\n",
       " '(2017)',\n",
       " '(2013)',\n",
       " '(2012)',\n",
       " '(2011)',\n",
       " '(2010)']"
      ]
     },
     "execution_count": 11,
     "metadata": {},
     "output_type": "execute_result"
    }
   ],
   "source": [
    "#Year_of_relase\n",
    "\n",
    "Year_of_release = []\n",
    "for i in soup.find_all('span',class_='lister-item-year text-muted unbold'):\n",
    "    Year_of_release.append(i.text)\n",
    "    \n",
    "\n",
    "Year_of_release"
   ]
  },
  {
   "cell_type": "code",
   "execution_count": 12,
   "id": "f9da3e6a",
   "metadata": {},
   "outputs": [
    {
     "name": "stdout",
     "output_type": "stream",
     "text": [
      "100 100 100\n"
     ]
    }
   ],
   "source": [
    "print(len(Movie_name),len(Year_of_release),len(Rating))"
   ]
  },
  {
   "cell_type": "code",
   "execution_count": 13,
   "id": "61a4def7",
   "metadata": {},
   "outputs": [
    {
     "data": {
      "text/html": [
       "<div>\n",
       "<style scoped>\n",
       "    .dataframe tbody tr th:only-of-type {\n",
       "        vertical-align: middle;\n",
       "    }\n",
       "\n",
       "    .dataframe tbody tr th {\n",
       "        vertical-align: top;\n",
       "    }\n",
       "\n",
       "    .dataframe thead th {\n",
       "        text-align: right;\n",
       "    }\n",
       "</style>\n",
       "<table border=\"1\" class=\"dataframe\">\n",
       "  <thead>\n",
       "    <tr style=\"text-align: right;\">\n",
       "      <th></th>\n",
       "      <th>Movie_name</th>\n",
       "      <th>Year_of_release</th>\n",
       "      <th>Rating</th>\n",
       "    </tr>\n",
       "  </thead>\n",
       "  <tbody>\n",
       "    <tr>\n",
       "      <th>0</th>\n",
       "      <td>Jai Bhim</td>\n",
       "      <td>(2021)</td>\n",
       "      <td>9.3</td>\n",
       "    </tr>\n",
       "    <tr>\n",
       "      <th>1</th>\n",
       "      <td>The Shawshank Redemption</td>\n",
       "      <td>(1994)</td>\n",
       "      <td>9.3</td>\n",
       "    </tr>\n",
       "    <tr>\n",
       "      <th>2</th>\n",
       "      <td>The Godfather</td>\n",
       "      <td>(1972)</td>\n",
       "      <td>9.2</td>\n",
       "    </tr>\n",
       "    <tr>\n",
       "      <th>3</th>\n",
       "      <td>Soorarai Pottru</td>\n",
       "      <td>(2020)</td>\n",
       "      <td>9.1</td>\n",
       "    </tr>\n",
       "    <tr>\n",
       "      <th>4</th>\n",
       "      <td>The Dark Knight</td>\n",
       "      <td>(2008)</td>\n",
       "      <td>9.0</td>\n",
       "    </tr>\n",
       "    <tr>\n",
       "      <th>...</th>\n",
       "      <td>...</td>\n",
       "      <td>...</td>\n",
       "      <td>...</td>\n",
       "    </tr>\n",
       "    <tr>\n",
       "      <th>95</th>\n",
       "      <td>Vikram Vedha</td>\n",
       "      <td>(2017)</td>\n",
       "      <td>8.3</td>\n",
       "    </tr>\n",
       "    <tr>\n",
       "      <th>96</th>\n",
       "      <td>Drishyam</td>\n",
       "      <td>(2013)</td>\n",
       "      <td>8.3</td>\n",
       "    </tr>\n",
       "    <tr>\n",
       "      <th>97</th>\n",
       "      <td>Jagten</td>\n",
       "      <td>(2012)</td>\n",
       "      <td>8.3</td>\n",
       "    </tr>\n",
       "    <tr>\n",
       "      <th>98</th>\n",
       "      <td>Jodaeiye Nader az Simin</td>\n",
       "      <td>(2011)</td>\n",
       "      <td>8.3</td>\n",
       "    </tr>\n",
       "    <tr>\n",
       "      <th>99</th>\n",
       "      <td>Incendies</td>\n",
       "      <td>(2010)</td>\n",
       "      <td>8.3</td>\n",
       "    </tr>\n",
       "  </tbody>\n",
       "</table>\n",
       "<p>100 rows × 3 columns</p>\n",
       "</div>"
      ],
      "text/plain": [
       "                  Movie_name Year_of_release Rating\n",
       "0                   Jai Bhim          (2021)    9.3\n",
       "1   The Shawshank Redemption          (1994)    9.3\n",
       "2              The Godfather          (1972)    9.2\n",
       "3            Soorarai Pottru          (2020)    9.1\n",
       "4            The Dark Knight          (2008)    9.0\n",
       "..                       ...             ...    ...\n",
       "95              Vikram Vedha          (2017)    8.3\n",
       "96                  Drishyam          (2013)    8.3\n",
       "97                    Jagten          (2012)    8.3\n",
       "98   Jodaeiye Nader az Simin          (2011)    8.3\n",
       "99                 Incendies          (2010)    8.3\n",
       "\n",
       "[100 rows x 3 columns]"
      ]
     },
     "execution_count": 13,
     "metadata": {},
     "output_type": "execute_result"
    }
   ],
   "source": [
    "# Resultant DataFrame\n",
    "import pandas as pd\n",
    "data = pd.DataFrame({'Movie_name':Movie_name , 'Year_of_release':Year_of_release, 'Rating':Rating})\n",
    "data"
   ]
  },
  {
   "cell_type": "markdown",
   "id": "37c8c242",
   "metadata": {},
   "source": [
    "#  3.Write a python program to display IMDBS top rated 100 indian movies data (i.e name,rating and year of release)and make dataframe"
   ]
  },
  {
   "cell_type": "code",
   "execution_count": 14,
   "id": "fbf1a7ab",
   "metadata": {},
   "outputs": [
    {
     "data": {
      "text/plain": [
       "<Response [200]>"
      ]
     },
     "execution_count": 14,
     "metadata": {},
     "output_type": "execute_result"
    }
   ],
   "source": [
    "# Getting the access from the server\n",
    "\n",
    "page = requests.get('https://www.imdb.com/list/ls056092300/')\n",
    "page"
   ]
  },
  {
   "cell_type": "code",
   "execution_count": 15,
   "id": "f96175b0",
   "metadata": {},
   "outputs": [],
   "source": [
    "# HTML content\n",
    "\n",
    "page_html = BeautifulSoup(page.content)\n"
   ]
  },
  {
   "cell_type": "code",
   "execution_count": 16,
   "id": "2cefcbbe",
   "metadata": {},
   "outputs": [
    {
     "data": {
      "text/plain": [
       "['Ship of Theseus',\n",
       " 'Iruvar',\n",
       " 'Kaagaz Ke Phool',\n",
       " 'Lagaan: Once Upon a Time in India',\n",
       " 'Pather Panchali',\n",
       " 'Charulata',\n",
       " 'Rang De Basanti',\n",
       " 'Dev.D',\n",
       " '3 Idiots',\n",
       " 'Awaara',\n",
       " 'Nayakan',\n",
       " 'Aparajito',\n",
       " 'Pushpaka Vimana',\n",
       " 'Pyaasa',\n",
       " 'Ghatashraddha',\n",
       " 'Sholay',\n",
       " 'Aradhana',\n",
       " 'Do Ankhen Barah Haath',\n",
       " 'Bombay',\n",
       " 'Neecha Nagar',\n",
       " 'Do Bigha Zamin',\n",
       " 'Garm Hava',\n",
       " 'Piravi',\n",
       " 'Mughal-E-Azam',\n",
       " 'Amma Ariyan',\n",
       " 'Madhumati',\n",
       " 'Goopy Gyne Bagha Byne',\n",
       " 'Gangs of Wasseypur',\n",
       " 'Guide',\n",
       " 'Satya',\n",
       " 'Roja',\n",
       " 'Mr. India',\n",
       " 'The Cloud-Capped Star',\n",
       " 'Harishchandrachi Factory',\n",
       " 'Masoom',\n",
       " 'Agneepath',\n",
       " 'Tabarana Kathe',\n",
       " 'Zakhm',\n",
       " 'Dil Chahta Hai',\n",
       " 'Bhaag Milkha Bhaag',\n",
       " 'Chupke Chupke',\n",
       " 'Dilwale Dulhania Le Jayenge',\n",
       " 'Taare Zameen Par',\n",
       " 'Ardh Satya',\n",
       " 'Bhumika',\n",
       " 'Enthiran',\n",
       " 'Sadma',\n",
       " 'Shwaas',\n",
       " 'Lamhe',\n",
       " 'Haqeeqat',\n",
       " 'Shree 420',\n",
       " 'Kannathil Muthamittal',\n",
       " 'Hum Aapke Hain Koun..!',\n",
       " 'Ustad Hotel',\n",
       " 'Bandit Queen',\n",
       " 'Lakshya',\n",
       " 'Black Friday',\n",
       " 'Manthan',\n",
       " 'Apoorva Raagangal',\n",
       " 'English Vinglish',\n",
       " 'Jewel Thief',\n",
       " 'Pakeezah',\n",
       " 'Maqbool',\n",
       " 'Jis Desh Men Ganga Behti Hai',\n",
       " 'Sahib Bibi Aur Ghulam',\n",
       " 'Shatranj Ke Khilari',\n",
       " 'Narthanasala',\n",
       " 'Chandni Bar',\n",
       " 'Vaaranam Aayiram',\n",
       " 'Mr. and Mrs. Iyer',\n",
       " 'Chandni',\n",
       " 'English, August',\n",
       " 'Celluloid',\n",
       " 'Sagara Sangamam',\n",
       " 'Munna Bhai M.B.B.S.',\n",
       " 'Saaransh',\n",
       " 'Guddi',\n",
       " 'Vanaja',\n",
       " 'Vazhakku Enn 18/9',\n",
       " 'Gangaajal',\n",
       " 'Angoor',\n",
       " 'Guru',\n",
       " 'Andaz Apna Apna',\n",
       " 'Sangam',\n",
       " 'Oka Oori Katha',\n",
       " 'Bhuvan Shome',\n",
       " 'Border',\n",
       " 'Parineeta',\n",
       " 'Devdas',\n",
       " 'Abohomaan',\n",
       " 'Kuch Kuch Hota Hai',\n",
       " 'Pithamagan',\n",
       " 'Veyyil',\n",
       " 'Chemmeen',\n",
       " 'Jaane Bhi Do Yaaro',\n",
       " 'Apur Sansar',\n",
       " 'Kanchivaram',\n",
       " 'Monsoon Wedding',\n",
       " 'Black',\n",
       " 'Deewaar']"
      ]
     },
     "execution_count": 16,
     "metadata": {},
     "output_type": "execute_result"
    }
   ],
   "source": [
    "# Name\n",
    "\n",
    "name = []\n",
    "for i in page_html('h3',class_='lister-item-header'):\n",
    "    name.append(i.a.text)\n",
    "name"
   ]
  },
  {
   "cell_type": "code",
   "execution_count": 17,
   "id": "0cdf1083",
   "metadata": {},
   "outputs": [
    {
     "data": {
      "text/plain": [
       "100"
      ]
     },
     "execution_count": 17,
     "metadata": {},
     "output_type": "execute_result"
    }
   ],
   "source": [
    "len(name)"
   ]
  },
  {
   "cell_type": "code",
   "execution_count": 18,
   "id": "bd9439cd",
   "metadata": {},
   "outputs": [
    {
     "data": {
      "text/plain": [
       "['8.1',\n",
       " '8.5',\n",
       " '8',\n",
       " '8.1',\n",
       " '8.4',\n",
       " '8.2',\n",
       " '8.1',\n",
       " '8',\n",
       " '8.4',\n",
       " '7.9',\n",
       " '8.7',\n",
       " '8.3',\n",
       " '8.6',\n",
       " '8.5',\n",
       " '7.3',\n",
       " '8.2',\n",
       " '7.6',\n",
       " '8.4',\n",
       " '8.1',\n",
       " '6.9',\n",
       " '8.3',\n",
       " '8.1',\n",
       " '7.7',\n",
       " '8.2',\n",
       " '7.2',\n",
       " '8',\n",
       " '8.8',\n",
       " '8.2',\n",
       " '8.4',\n",
       " '8.3',\n",
       " '8.2',\n",
       " '7.8',\n",
       " '8',\n",
       " '8.4',\n",
       " '8.4',\n",
       " '7.7',\n",
       " '7.9',\n",
       " '7.9',\n",
       " '8.1',\n",
       " '8.2',\n",
       " '8.3',\n",
       " '8.1',\n",
       " '8.4',\n",
       " '8.2',\n",
       " '7.4',\n",
       " '7.1',\n",
       " '8.4',\n",
       " '8.3',\n",
       " '7.4',\n",
       " '7.8',\n",
       " '8',\n",
       " '8.4',\n",
       " '7.5',\n",
       " '8.2',\n",
       " '7.6',\n",
       " '7.9',\n",
       " '8.5',\n",
       " '7.7',\n",
       " '7.5',\n",
       " '7.8',\n",
       " '8',\n",
       " '7.3',\n",
       " '8.1',\n",
       " '7.4',\n",
       " '8.3',\n",
       " '7.7',\n",
       " '7.6',\n",
       " '7.6',\n",
       " '8.2',\n",
       " '7.9',\n",
       " '6.8',\n",
       " '6.9',\n",
       " '7.7',\n",
       " '8.8',\n",
       " '8.1',\n",
       " '8.2',\n",
       " '7.2',\n",
       " '7.2',\n",
       " '8.3',\n",
       " '7.8',\n",
       " '8.3',\n",
       " '7.7',\n",
       " '8.1',\n",
       " '7.5',\n",
       " '7.7',\n",
       " '7.4',\n",
       " '7.9',\n",
       " '7.2',\n",
       " '7.9',\n",
       " '7.4',\n",
       " '7.6',\n",
       " '8.4',\n",
       " '7.8',\n",
       " '7.8',\n",
       " '8.4',\n",
       " '8.5',\n",
       " '8.1',\n",
       " '7.4',\n",
       " '8.2',\n",
       " '8.1']"
      ]
     },
     "execution_count": 18,
     "metadata": {},
     "output_type": "execute_result"
    }
   ],
   "source": [
    "#Rating\n",
    "\n",
    "rating = []\n",
    "for i in page_html.find_all('div',class_='ipl-rating-star small'):\n",
    "    rating.append(i.text.replace('\\n',''))\n",
    "\n",
    "rating\n"
   ]
  },
  {
   "cell_type": "code",
   "execution_count": 19,
   "id": "feccc21d",
   "metadata": {},
   "outputs": [
    {
     "data": {
      "text/plain": [
       "['(2012)',\n",
       " '(1997)',\n",
       " '(1959)',\n",
       " '(2001)',\n",
       " '(1955)',\n",
       " '(1964)',\n",
       " '(2006)',\n",
       " '(2009)',\n",
       " '(2009)',\n",
       " '(1951)',\n",
       " '(1987)',\n",
       " '(1956)',\n",
       " '(1987)',\n",
       " '(1957)',\n",
       " '(1977)',\n",
       " '(1975)',\n",
       " '(1969)',\n",
       " '(1957)',\n",
       " '(1995)',\n",
       " '(1946)',\n",
       " '(1953)',\n",
       " '(1974)',\n",
       " '(1989)',\n",
       " '(1960)',\n",
       " '(1986)',\n",
       " '(1958)',\n",
       " '(1969)',\n",
       " '(2012)',\n",
       " '(1965)',\n",
       " '(1998)',\n",
       " '(1992)',\n",
       " '(1987)',\n",
       " '(1960)',\n",
       " '(2009)',\n",
       " '(1983)',\n",
       " '(1990)',\n",
       " '(1986)',\n",
       " '(1998)',\n",
       " '(2001)',\n",
       " '(2013)',\n",
       " '(1975)',\n",
       " '(1995)',\n",
       " '(2007)',\n",
       " '(1983)',\n",
       " '(1977)',\n",
       " '(2010)',\n",
       " '(1983)',\n",
       " '(2004)',\n",
       " '(1991)',\n",
       " '(1964)',\n",
       " '(1955)',\n",
       " '(2002)',\n",
       " '(1994)',\n",
       " '(2012)',\n",
       " '(1994)',\n",
       " '(2004)',\n",
       " '(2004)',\n",
       " '(1976)',\n",
       " '(1975)',\n",
       " '(2012)',\n",
       " '(1967)',\n",
       " '(1972)',\n",
       " '(2003)',\n",
       " '(1960)',\n",
       " '(1962)',\n",
       " '(1977)',\n",
       " '(1963)',\n",
       " '(2001)',\n",
       " '(2008)',\n",
       " '(2002)',\n",
       " '(1989)',\n",
       " '(1994)',\n",
       " '(2013)',\n",
       " '(1983)',\n",
       " '(2003)',\n",
       " '(1984)',\n",
       " '(1971)',\n",
       " '(2006)',\n",
       " '(2012)',\n",
       " '(2003)',\n",
       " '(1982)',\n",
       " '(2007)',\n",
       " '(1994)',\n",
       " ' (1964)',\n",
       " '(1978)',\n",
       " '(1969)',\n",
       " ' (1997)',\n",
       " '(2005)',\n",
       " '(1955)',\n",
       " '(2009)',\n",
       " '(1998)',\n",
       " '(2003)',\n",
       " '(2006)',\n",
       " '(1965)',\n",
       " '(1983)',\n",
       " '(1959)',\n",
       " '(2008)',\n",
       " '(2001)',\n",
       " '(2005)',\n",
       " '(1975)']"
      ]
     },
     "execution_count": 19,
     "metadata": {},
     "output_type": "execute_result"
    }
   ],
   "source": [
    "# Year of relase\n",
    "\n",
    "year = []\n",
    "for i in page_html.find_all('span',class_='lister-item-year text-muted unbold'):\n",
    "    year.append(i.text.replace('(I)',''))\n",
    "year\n",
    "   "
   ]
  },
  {
   "cell_type": "code",
   "execution_count": 20,
   "id": "29f4e27b",
   "metadata": {},
   "outputs": [
    {
     "data": {
      "text/html": [
       "<div>\n",
       "<style scoped>\n",
       "    .dataframe tbody tr th:only-of-type {\n",
       "        vertical-align: middle;\n",
       "    }\n",
       "\n",
       "    .dataframe tbody tr th {\n",
       "        vertical-align: top;\n",
       "    }\n",
       "\n",
       "    .dataframe thead th {\n",
       "        text-align: right;\n",
       "    }\n",
       "</style>\n",
       "<table border=\"1\" class=\"dataframe\">\n",
       "  <thead>\n",
       "    <tr style=\"text-align: right;\">\n",
       "      <th></th>\n",
       "      <th>Name_of_Movie</th>\n",
       "      <th>Rating</th>\n",
       "      <th>Year_of_release</th>\n",
       "    </tr>\n",
       "  </thead>\n",
       "  <tbody>\n",
       "    <tr>\n",
       "      <th>0</th>\n",
       "      <td>Ship of Theseus</td>\n",
       "      <td>8.1</td>\n",
       "      <td>(2012)</td>\n",
       "    </tr>\n",
       "    <tr>\n",
       "      <th>1</th>\n",
       "      <td>Iruvar</td>\n",
       "      <td>8.5</td>\n",
       "      <td>(1997)</td>\n",
       "    </tr>\n",
       "    <tr>\n",
       "      <th>2</th>\n",
       "      <td>Kaagaz Ke Phool</td>\n",
       "      <td>8</td>\n",
       "      <td>(1959)</td>\n",
       "    </tr>\n",
       "    <tr>\n",
       "      <th>3</th>\n",
       "      <td>Lagaan: Once Upon a Time in India</td>\n",
       "      <td>8.1</td>\n",
       "      <td>(2001)</td>\n",
       "    </tr>\n",
       "    <tr>\n",
       "      <th>4</th>\n",
       "      <td>Pather Panchali</td>\n",
       "      <td>8.4</td>\n",
       "      <td>(1955)</td>\n",
       "    </tr>\n",
       "    <tr>\n",
       "      <th>...</th>\n",
       "      <td>...</td>\n",
       "      <td>...</td>\n",
       "      <td>...</td>\n",
       "    </tr>\n",
       "    <tr>\n",
       "      <th>95</th>\n",
       "      <td>Apur Sansar</td>\n",
       "      <td>8.5</td>\n",
       "      <td>(1959)</td>\n",
       "    </tr>\n",
       "    <tr>\n",
       "      <th>96</th>\n",
       "      <td>Kanchivaram</td>\n",
       "      <td>8.1</td>\n",
       "      <td>(2008)</td>\n",
       "    </tr>\n",
       "    <tr>\n",
       "      <th>97</th>\n",
       "      <td>Monsoon Wedding</td>\n",
       "      <td>7.4</td>\n",
       "      <td>(2001)</td>\n",
       "    </tr>\n",
       "    <tr>\n",
       "      <th>98</th>\n",
       "      <td>Black</td>\n",
       "      <td>8.2</td>\n",
       "      <td>(2005)</td>\n",
       "    </tr>\n",
       "    <tr>\n",
       "      <th>99</th>\n",
       "      <td>Deewaar</td>\n",
       "      <td>8.1</td>\n",
       "      <td>(1975)</td>\n",
       "    </tr>\n",
       "  </tbody>\n",
       "</table>\n",
       "<p>100 rows × 3 columns</p>\n",
       "</div>"
      ],
      "text/plain": [
       "                        Name_of_Movie Rating Year_of_release\n",
       "0                     Ship of Theseus    8.1          (2012)\n",
       "1                              Iruvar    8.5          (1997)\n",
       "2                     Kaagaz Ke Phool      8          (1959)\n",
       "3   Lagaan: Once Upon a Time in India    8.1          (2001)\n",
       "4                     Pather Panchali    8.4          (1955)\n",
       "..                                ...    ...             ...\n",
       "95                        Apur Sansar    8.5          (1959)\n",
       "96                        Kanchivaram    8.1          (2008)\n",
       "97                    Monsoon Wedding    7.4          (2001)\n",
       "98                              Black    8.2          (2005)\n",
       "99                            Deewaar    8.1          (1975)\n",
       "\n",
       "[100 rows x 3 columns]"
      ]
     },
     "execution_count": 20,
     "metadata": {},
     "output_type": "execute_result"
    }
   ],
   "source": [
    "# Resultant DataFrame\n",
    "\n",
    "df = pd.DataFrame({'Name_of_Movie':name,'Rating':rating,'Year_of_release':year})\n",
    "df"
   ]
  },
  {
   "cell_type": "markdown",
   "id": "2e0d2414",
   "metadata": {},
   "source": [
    "# 4. write a python programe to scrape product_name,price and discount from https://www.meesho.com/bags-ladies/pl/p7vbp\n"
   ]
  },
  {
   "cell_type": "code",
   "execution_count": 21,
   "id": "42a5b6a6",
   "metadata": {},
   "outputs": [
    {
     "data": {
      "text/plain": [
       "<Response [200]>"
      ]
     },
     "execution_count": 21,
     "metadata": {},
     "output_type": "execute_result"
    }
   ],
   "source": [
    "# Getting access\n",
    "\n",
    "misho = requests.get('https://www.meesho.com/bags-ladies/pl/p7vbp')\n",
    "misho"
   ]
  },
  {
   "cell_type": "code",
   "execution_count": 22,
   "id": "dd9d21aa",
   "metadata": {},
   "outputs": [],
   "source": [
    "# HTML content\n",
    "\n",
    "misho_html = BeautifulSoup(misho.content)\n"
   ]
  },
  {
   "cell_type": "code",
   "execution_count": 23,
   "id": "b835a293",
   "metadata": {},
   "outputs": [
    {
     "data": {
      "text/plain": [
       "['Elegant Fashionable Women Handbags',\n",
       " 'Gorgeous Attractive Women Handbags',\n",
       " 'Classic Versatile Women Handbags',\n",
       " 'Gorgeous Versatile Women Handbags',\n",
       " 'Trendy Fancy Women Handbags',\n",
       " 'Voguish Classy Women Handbags',\n",
       " 'Elegant Versatile Women Handbags',\n",
       " 'Ravishing Stylish Women Handbags',\n",
       " 'Ravishing Alluring Women Handbags',\n",
       " 'Classic Versatile Women Handbags',\n",
       " 'Elegant Women Handbags',\n",
       " 'Elite Fashionable Women Handbags',\n",
       " 'Voguish Fancy Women Handbags',\n",
       " 'Classic Stylish Women Handbags',\n",
       " 'Elite Versatile Women Handbags',\n",
       " 'Elegant Attractive Women Handbags',\n",
       " 'Classic Versatile Women Handbags',\n",
       " 'Elite Fancy Women Handbags',\n",
       " 'Trendy Fashionable Women Handbags',\n",
       " 'Gorgeous Classy Women Handbags']"
      ]
     },
     "execution_count": 23,
     "metadata": {},
     "output_type": "execute_result"
    }
   ],
   "source": [
    "#Name of the Products\n",
    "\n",
    "name = []\n",
    "for i in misho_html.find_all('p',class_='Text__StyledText-sc-oo0kvp-0 bWSOET NewProductCard__ProductTitle_Desktop-sc-j0e7tu-4 cQhePS NewProductCard__ProductTitle_Desktop-sc-j0e7tu-4 cQhePS'):\n",
    "    name.append(i.text)\n",
    "name"
   ]
  },
  {
   "cell_type": "code",
   "execution_count": 24,
   "id": "b9794540",
   "metadata": {},
   "outputs": [
    {
     "data": {
      "text/plain": [
       "['₹192',\n",
       " '₹342',\n",
       " '₹384',\n",
       " '₹234',\n",
       " '₹464',\n",
       " '₹187',\n",
       " '₹239',\n",
       " '₹227',\n",
       " '₹282',\n",
       " '₹214',\n",
       " '₹171',\n",
       " '₹233',\n",
       " '₹137',\n",
       " '₹274',\n",
       " '₹234',\n",
       " '₹200',\n",
       " '₹206',\n",
       " '₹232',\n",
       " '₹210',\n",
       " '₹192']"
      ]
     },
     "execution_count": 24,
     "metadata": {},
     "output_type": "execute_result"
    }
   ],
   "source": [
    "#Price of the Product\n",
    "price = []\n",
    "for i in misho_html.find_all('h5',class_='Text__StyledText-sc-oo0kvp-0 hiHdyy'):\n",
    "    price.append(i.text.replace('onwards',''))\n",
    "price\n"
   ]
  },
  {
   "cell_type": "code",
   "execution_count": 25,
   "id": "3446bf1c",
   "metadata": {},
   "outputs": [
    {
     "data": {
      "text/plain": [
       "['30% ',\n",
       " '23% ',\n",
       " '21% ',\n",
       " '30% ',\n",
       " '18% ',\n",
       " '30% ',\n",
       " '29% ',\n",
       " '30% ',\n",
       " '26% ',\n",
       " '30% ',\n",
       " '30% ',\n",
       " '30% ',\n",
       " '30% ',\n",
       " '27% ',\n",
       " '30% ',\n",
       " '30% ',\n",
       " '30% ',\n",
       " '30% ',\n",
       " '30% ',\n",
       " '30% ']"
      ]
     },
     "execution_count": 25,
     "metadata": {},
     "output_type": "execute_result"
    }
   ],
   "source": [
    "# Discount for the product\n",
    "\n",
    "discount = []\n",
    "for i in misho_html.find_all('span',class_='Text__StyledText-sc-oo0kvp-0 lnonyH'):\n",
    "    discount.append(i.text.replace('off',''))     \n",
    "\n",
    "discount"
   ]
  },
  {
   "cell_type": "code",
   "execution_count": 26,
   "id": "e5fcf70b",
   "metadata": {},
   "outputs": [
    {
     "name": "stdout",
     "output_type": "stream",
     "text": [
      "lenth of product names 20\n",
      "lenth of the price column 20\n",
      "lenth od the discount column 20\n"
     ]
    }
   ],
   "source": [
    "#length of the 3 lists\n",
    "\n",
    "print(\"lenth of product names\",len(name))\n",
    "print(\"lenth of the price column\",len(price))\n",
    "print(\"lenth od the discount column\",len(discount))"
   ]
  },
  {
   "cell_type": "code",
   "execution_count": 27,
   "id": "111fce41",
   "metadata": {},
   "outputs": [
    {
     "data": {
      "text/html": [
       "<div>\n",
       "<style scoped>\n",
       "    .dataframe tbody tr th:only-of-type {\n",
       "        vertical-align: middle;\n",
       "    }\n",
       "\n",
       "    .dataframe tbody tr th {\n",
       "        vertical-align: top;\n",
       "    }\n",
       "\n",
       "    .dataframe thead th {\n",
       "        text-align: right;\n",
       "    }\n",
       "</style>\n",
       "<table border=\"1\" class=\"dataframe\">\n",
       "  <thead>\n",
       "    <tr style=\"text-align: right;\">\n",
       "      <th></th>\n",
       "      <th>Product_Name</th>\n",
       "      <th>Price</th>\n",
       "      <th>Discount_price</th>\n",
       "    </tr>\n",
       "  </thead>\n",
       "  <tbody>\n",
       "    <tr>\n",
       "      <th>0</th>\n",
       "      <td>Elegant Fashionable Women Handbags</td>\n",
       "      <td>₹192</td>\n",
       "      <td>30%</td>\n",
       "    </tr>\n",
       "    <tr>\n",
       "      <th>1</th>\n",
       "      <td>Gorgeous Attractive Women Handbags</td>\n",
       "      <td>₹342</td>\n",
       "      <td>23%</td>\n",
       "    </tr>\n",
       "    <tr>\n",
       "      <th>2</th>\n",
       "      <td>Classic Versatile Women Handbags</td>\n",
       "      <td>₹384</td>\n",
       "      <td>21%</td>\n",
       "    </tr>\n",
       "    <tr>\n",
       "      <th>3</th>\n",
       "      <td>Gorgeous Versatile Women Handbags</td>\n",
       "      <td>₹234</td>\n",
       "      <td>30%</td>\n",
       "    </tr>\n",
       "    <tr>\n",
       "      <th>4</th>\n",
       "      <td>Trendy Fancy Women Handbags</td>\n",
       "      <td>₹464</td>\n",
       "      <td>18%</td>\n",
       "    </tr>\n",
       "    <tr>\n",
       "      <th>5</th>\n",
       "      <td>Voguish Classy Women Handbags</td>\n",
       "      <td>₹187</td>\n",
       "      <td>30%</td>\n",
       "    </tr>\n",
       "    <tr>\n",
       "      <th>6</th>\n",
       "      <td>Elegant Versatile Women Handbags</td>\n",
       "      <td>₹239</td>\n",
       "      <td>29%</td>\n",
       "    </tr>\n",
       "    <tr>\n",
       "      <th>7</th>\n",
       "      <td>Ravishing Stylish Women Handbags</td>\n",
       "      <td>₹227</td>\n",
       "      <td>30%</td>\n",
       "    </tr>\n",
       "    <tr>\n",
       "      <th>8</th>\n",
       "      <td>Ravishing Alluring Women Handbags</td>\n",
       "      <td>₹282</td>\n",
       "      <td>26%</td>\n",
       "    </tr>\n",
       "    <tr>\n",
       "      <th>9</th>\n",
       "      <td>Classic Versatile Women Handbags</td>\n",
       "      <td>₹214</td>\n",
       "      <td>30%</td>\n",
       "    </tr>\n",
       "    <tr>\n",
       "      <th>10</th>\n",
       "      <td>Elegant Women Handbags</td>\n",
       "      <td>₹171</td>\n",
       "      <td>30%</td>\n",
       "    </tr>\n",
       "    <tr>\n",
       "      <th>11</th>\n",
       "      <td>Elite Fashionable Women Handbags</td>\n",
       "      <td>₹233</td>\n",
       "      <td>30%</td>\n",
       "    </tr>\n",
       "    <tr>\n",
       "      <th>12</th>\n",
       "      <td>Voguish Fancy Women Handbags</td>\n",
       "      <td>₹137</td>\n",
       "      <td>30%</td>\n",
       "    </tr>\n",
       "    <tr>\n",
       "      <th>13</th>\n",
       "      <td>Classic Stylish Women Handbags</td>\n",
       "      <td>₹274</td>\n",
       "      <td>27%</td>\n",
       "    </tr>\n",
       "    <tr>\n",
       "      <th>14</th>\n",
       "      <td>Elite Versatile Women Handbags</td>\n",
       "      <td>₹234</td>\n",
       "      <td>30%</td>\n",
       "    </tr>\n",
       "    <tr>\n",
       "      <th>15</th>\n",
       "      <td>Elegant Attractive Women Handbags</td>\n",
       "      <td>₹200</td>\n",
       "      <td>30%</td>\n",
       "    </tr>\n",
       "    <tr>\n",
       "      <th>16</th>\n",
       "      <td>Classic Versatile Women Handbags</td>\n",
       "      <td>₹206</td>\n",
       "      <td>30%</td>\n",
       "    </tr>\n",
       "    <tr>\n",
       "      <th>17</th>\n",
       "      <td>Elite Fancy Women Handbags</td>\n",
       "      <td>₹232</td>\n",
       "      <td>30%</td>\n",
       "    </tr>\n",
       "    <tr>\n",
       "      <th>18</th>\n",
       "      <td>Trendy Fashionable Women Handbags</td>\n",
       "      <td>₹210</td>\n",
       "      <td>30%</td>\n",
       "    </tr>\n",
       "    <tr>\n",
       "      <th>19</th>\n",
       "      <td>Gorgeous Classy Women Handbags</td>\n",
       "      <td>₹192</td>\n",
       "      <td>30%</td>\n",
       "    </tr>\n",
       "  </tbody>\n",
       "</table>\n",
       "</div>"
      ],
      "text/plain": [
       "                          Product_Name Price Discount_price\n",
       "0   Elegant Fashionable Women Handbags  ₹192           30% \n",
       "1   Gorgeous Attractive Women Handbags  ₹342           23% \n",
       "2     Classic Versatile Women Handbags  ₹384           21% \n",
       "3    Gorgeous Versatile Women Handbags  ₹234           30% \n",
       "4          Trendy Fancy Women Handbags  ₹464           18% \n",
       "5        Voguish Classy Women Handbags  ₹187           30% \n",
       "6     Elegant Versatile Women Handbags  ₹239           29% \n",
       "7     Ravishing Stylish Women Handbags  ₹227           30% \n",
       "8    Ravishing Alluring Women Handbags  ₹282           26% \n",
       "9     Classic Versatile Women Handbags  ₹214           30% \n",
       "10              Elegant Women Handbags  ₹171           30% \n",
       "11    Elite Fashionable Women Handbags  ₹233           30% \n",
       "12        Voguish Fancy Women Handbags  ₹137           30% \n",
       "13      Classic Stylish Women Handbags  ₹274           27% \n",
       "14      Elite Versatile Women Handbags  ₹234           30% \n",
       "15   Elegant Attractive Women Handbags  ₹200           30% \n",
       "16    Classic Versatile Women Handbags  ₹206           30% \n",
       "17          Elite Fancy Women Handbags  ₹232           30% \n",
       "18   Trendy Fashionable Women Handbags  ₹210           30% \n",
       "19      Gorgeous Classy Women Handbags  ₹192           30% "
      ]
     },
     "execution_count": 27,
     "metadata": {},
     "output_type": "execute_result"
    }
   ],
   "source": [
    "# Resultant DataFrame\n",
    "\n",
    "df = pd.DataFrame({'Product_Name':name,'Price':price,'Discount_price':discount})\n",
    "df"
   ]
  },
  {
   "cell_type": "markdown",
   "id": "d256cf4c",
   "metadata": {},
   "source": [
    "#  5. Write a python to scrap cricket rating from ice-criket.com.you have toscrape:\n",
    "           "
   ]
  },
  {
   "cell_type": "markdown",
   "id": "8deba375",
   "metadata": {},
   "source": [
    "# a) Top 10 ODI teams in men's cricket along with the records for matches,points and rating."
   ]
  },
  {
   "cell_type": "code",
   "execution_count": 28,
   "id": "73a24e41",
   "metadata": {},
   "outputs": [
    {
     "data": {
      "text/plain": [
       "<Response [200]>"
      ]
     },
     "execution_count": 28,
     "metadata": {},
     "output_type": "execute_result"
    }
   ],
   "source": [
    "# Getting access from the server\n",
    "\n",
    "odi = requests.get('https://www.icc-cricket.com/rankings/mens/team-rankings/odi')\n",
    "odi"
   ]
  },
  {
   "cell_type": "code",
   "execution_count": 29,
   "id": "10723158",
   "metadata": {},
   "outputs": [],
   "source": [
    "# Getting the html content\n",
    "\n",
    "odi_html = BeautifulSoup(odi.content,'html.parser')\n"
   ]
  },
  {
   "cell_type": "code",
   "execution_count": 30,
   "id": "ebf1ccc9",
   "metadata": {},
   "outputs": [
    {
     "name": "stdout",
     "output_type": "stream",
     "text": [
      "['17', '32', '28', '32', '25', '27', '30', '30', '32', '17']\n",
      "\n",
      "\n",
      "['2,054', '3,793', '3,244', '3,624', '2,459', '2,524', '2,740', '2,523', '2,657', '1,054']\n"
     ]
    }
   ],
   "source": [
    "# Getting required matches data\n",
    "\n",
    "matches = []\n",
    "matches.append(odi_html.find('td',class_='rankings-block__banner--matches').text)\n",
    "matches.append(odi_html.find('td',class_='rankings-block__banner--points').text)\n",
    "for i in odi_html.find_all('td',class_='table-body__cell u-center-text'):\n",
    "        matches.append(i.text)\n",
    "matches\n",
    "\n",
    "match = []\n",
    "points = []\n",
    "for i in range(0, 20):\n",
    "    if i % 2:\n",
    "        points.append(matches[i])\n",
    "    else :\n",
    "        match.append(matches[i])\n",
    "\n",
    "print(match)\n",
    "print('\\n')\n",
    "print(points)"
   ]
  },
  {
   "cell_type": "code",
   "execution_count": 31,
   "id": "1aa507f4",
   "metadata": {},
   "outputs": [
    {
     "name": "stdout",
     "output_type": "stream",
     "text": [
      "['                            121                            ', '119', '116', '113', '98', '93', '91', '84', '83', '62', '48', '46', '45', '38', '35', '30', '21', '21', '17', '0']\n"
     ]
    },
    {
     "data": {
      "text/plain": [
       "['                            121                            ',\n",
       " '119',\n",
       " '116',\n",
       " '113',\n",
       " '98',\n",
       " '93',\n",
       " '91',\n",
       " '84',\n",
       " '83',\n",
       " '62']"
      ]
     },
     "execution_count": 31,
     "metadata": {},
     "output_type": "execute_result"
    }
   ],
   "source": [
    "# Getting rating data\n",
    "\n",
    "rate = []\n",
    "rate.append(odi_html.find('td',class_='rankings-block__banner--rating u-text-right').text.replace('\\n',''))\n",
    "for i in odi_html.find_all('td',class_='table-body__cell u-text-right rating'):\n",
    "    rate.append(i.text)\n",
    "    \n",
    "print(rate)\n",
    "rating = []\n",
    "for i in range(0, 10):\n",
    "    rating.append(rate[i])\n",
    "\n",
    "rating"
   ]
  },
  {
   "cell_type": "code",
   "execution_count": 32,
   "id": "43821ee8",
   "metadata": {},
   "outputs": [
    {
     "data": {
      "text/html": [
       "<div>\n",
       "<style scoped>\n",
       "    .dataframe tbody tr th:only-of-type {\n",
       "        vertical-align: middle;\n",
       "    }\n",
       "\n",
       "    .dataframe tbody tr th {\n",
       "        vertical-align: top;\n",
       "    }\n",
       "\n",
       "    .dataframe thead th {\n",
       "        text-align: right;\n",
       "    }\n",
       "</style>\n",
       "<table border=\"1\" class=\"dataframe\">\n",
       "  <thead>\n",
       "    <tr style=\"text-align: right;\">\n",
       "      <th></th>\n",
       "      <th>Matches</th>\n",
       "      <th>Points</th>\n",
       "      <th>Rating</th>\n",
       "    </tr>\n",
       "  </thead>\n",
       "  <tbody>\n",
       "    <tr>\n",
       "      <th>0</th>\n",
       "      <td>17</td>\n",
       "      <td>2,054</td>\n",
       "      <td>121               ...</td>\n",
       "    </tr>\n",
       "    <tr>\n",
       "      <th>1</th>\n",
       "      <td>32</td>\n",
       "      <td>3,793</td>\n",
       "      <td>119</td>\n",
       "    </tr>\n",
       "    <tr>\n",
       "      <th>2</th>\n",
       "      <td>28</td>\n",
       "      <td>3,244</td>\n",
       "      <td>116</td>\n",
       "    </tr>\n",
       "    <tr>\n",
       "      <th>3</th>\n",
       "      <td>32</td>\n",
       "      <td>3,624</td>\n",
       "      <td>113</td>\n",
       "    </tr>\n",
       "    <tr>\n",
       "      <th>4</th>\n",
       "      <td>25</td>\n",
       "      <td>2,459</td>\n",
       "      <td>98</td>\n",
       "    </tr>\n",
       "    <tr>\n",
       "      <th>5</th>\n",
       "      <td>27</td>\n",
       "      <td>2,524</td>\n",
       "      <td>93</td>\n",
       "    </tr>\n",
       "    <tr>\n",
       "      <th>6</th>\n",
       "      <td>30</td>\n",
       "      <td>2,740</td>\n",
       "      <td>91</td>\n",
       "    </tr>\n",
       "    <tr>\n",
       "      <th>7</th>\n",
       "      <td>30</td>\n",
       "      <td>2,523</td>\n",
       "      <td>84</td>\n",
       "    </tr>\n",
       "    <tr>\n",
       "      <th>8</th>\n",
       "      <td>32</td>\n",
       "      <td>2,657</td>\n",
       "      <td>83</td>\n",
       "    </tr>\n",
       "    <tr>\n",
       "      <th>9</th>\n",
       "      <td>17</td>\n",
       "      <td>1,054</td>\n",
       "      <td>62</td>\n",
       "    </tr>\n",
       "  </tbody>\n",
       "</table>\n",
       "</div>"
      ],
      "text/plain": [
       "  Matches Points                                             Rating\n",
       "0      17  2,054                              121               ...\n",
       "1      32  3,793                                                119\n",
       "2      28  3,244                                                116\n",
       "3      32  3,624                                                113\n",
       "4      25  2,459                                                 98\n",
       "5      27  2,524                                                 93\n",
       "6      30  2,740                                                 91\n",
       "7      30  2,523                                                 84\n",
       "8      32  2,657                                                 83\n",
       "9      17  1,054                                                 62"
      ]
     },
     "execution_count": 32,
     "metadata": {},
     "output_type": "execute_result"
    }
   ],
   "source": [
    "#Resultant DataFrame\n",
    "\n",
    "data = pd.DataFrame({'Matches':match,'Points':points,'Rating':rating})\n",
    "data"
   ]
  },
  {
   "cell_type": "markdown",
   "id": "0d6e1e3b",
   "metadata": {},
   "source": [
    "#  b) Top 10 ODI Batsmen along with the records of their team and rating."
   ]
  },
  {
   "cell_type": "code",
   "execution_count": 33,
   "id": "536d2d10",
   "metadata": {},
   "outputs": [
    {
     "data": {
      "text/plain": [
       "<Response [200]>"
      ]
     },
     "execution_count": 33,
     "metadata": {},
     "output_type": "execute_result"
    }
   ],
   "source": [
    "# Getting access from the server\n",
    "\n",
    "page = requests.get('https://www.icc-cricket.com/rankings/mens/player-rankings/odi')\n",
    "page"
   ]
  },
  {
   "cell_type": "code",
   "execution_count": 34,
   "id": "faabc4bd",
   "metadata": {},
   "outputs": [],
   "source": [
    "# Getting the html content\n",
    "\n",
    "page_html = BeautifulSoup(page.content,'html.parser')\n"
   ]
  },
  {
   "cell_type": "code",
   "execution_count": 35,
   "id": "9addc72e",
   "metadata": {},
   "outputs": [
    {
     "data": {
      "text/plain": [
       "['PAK', 'IND', 'IND', 'NZ', 'SA', 'AUS', 'ENG', 'AUS', 'NZ', 'SA']"
      ]
     },
     "execution_count": 35,
     "metadata": {},
     "output_type": "execute_result"
    }
   ],
   "source": [
    "# Getting Teams Data\n",
    "\n",
    "teams = []\n",
    "\n",
    "t = page_html.findChild('div',class_='rankings-block__banner--nationality').text.replace('\\n','')\n",
    "\n",
    "n = len(t)\n",
    "middle_index = n//2\n",
    "teams.append(t[:middle_index])\n",
    "#print(teams)\n",
    "\n",
    "for i in page_html.find_all('span',class_='table-body__logo-text'):\n",
    "    teams.append(i.text)\n",
    "team = []\n",
    "\n",
    "for i in range(0, 10):\n",
    "    team.append(teams[i])\n",
    "team\n"
   ]
  },
  {
   "cell_type": "code",
   "execution_count": 36,
   "id": "c751c4d1",
   "metadata": {},
   "outputs": [
    {
     "data": {
      "text/plain": [
       "['836', '801', '801', '783', '779', '775', '762', '754', '750', '709']"
      ]
     },
     "execution_count": 36,
     "metadata": {},
     "output_type": "execute_result"
    }
   ],
   "source": [
    "# Rating\n",
    "\n",
    "rate = []\n",
    "for i in page_html.find_all('td',class_='table-body__cell u-text-right rating'):\n",
    "    rate.append(i.text)\n",
    "    \n",
    "#print(\"lenth:\",len(rate))\n",
    "\n",
    "rating = []\n",
    "for i in range(0,10):\n",
    "    rating.append(rate[i])\n",
    "rating"
   ]
  },
  {
   "cell_type": "code",
   "execution_count": 37,
   "id": "b4ce1de4",
   "metadata": {},
   "outputs": [
    {
     "data": {
      "text/html": [
       "<div>\n",
       "<style scoped>\n",
       "    .dataframe tbody tr th:only-of-type {\n",
       "        vertical-align: middle;\n",
       "    }\n",
       "\n",
       "    .dataframe tbody tr th {\n",
       "        vertical-align: top;\n",
       "    }\n",
       "\n",
       "    .dataframe thead th {\n",
       "        text-align: right;\n",
       "    }\n",
       "</style>\n",
       "<table border=\"1\" class=\"dataframe\">\n",
       "  <thead>\n",
       "    <tr style=\"text-align: right;\">\n",
       "      <th></th>\n",
       "      <th>Team</th>\n",
       "      <th>Rating</th>\n",
       "    </tr>\n",
       "  </thead>\n",
       "  <tbody>\n",
       "    <tr>\n",
       "      <th>0</th>\n",
       "      <td>PAK</td>\n",
       "      <td>836</td>\n",
       "    </tr>\n",
       "    <tr>\n",
       "      <th>1</th>\n",
       "      <td>IND</td>\n",
       "      <td>801</td>\n",
       "    </tr>\n",
       "    <tr>\n",
       "      <th>2</th>\n",
       "      <td>IND</td>\n",
       "      <td>801</td>\n",
       "    </tr>\n",
       "    <tr>\n",
       "      <th>3</th>\n",
       "      <td>NZ</td>\n",
       "      <td>783</td>\n",
       "    </tr>\n",
       "    <tr>\n",
       "      <th>4</th>\n",
       "      <td>SA</td>\n",
       "      <td>779</td>\n",
       "    </tr>\n",
       "    <tr>\n",
       "      <th>5</th>\n",
       "      <td>AUS</td>\n",
       "      <td>775</td>\n",
       "    </tr>\n",
       "    <tr>\n",
       "      <th>6</th>\n",
       "      <td>ENG</td>\n",
       "      <td>762</td>\n",
       "    </tr>\n",
       "    <tr>\n",
       "      <th>7</th>\n",
       "      <td>AUS</td>\n",
       "      <td>754</td>\n",
       "    </tr>\n",
       "    <tr>\n",
       "      <th>8</th>\n",
       "      <td>NZ</td>\n",
       "      <td>750</td>\n",
       "    </tr>\n",
       "    <tr>\n",
       "      <th>9</th>\n",
       "      <td>SA</td>\n",
       "      <td>709</td>\n",
       "    </tr>\n",
       "  </tbody>\n",
       "</table>\n",
       "</div>"
      ],
      "text/plain": [
       "  Team Rating\n",
       "0  PAK    836\n",
       "1  IND    801\n",
       "2  IND    801\n",
       "3   NZ    783\n",
       "4   SA    779\n",
       "5  AUS    775\n",
       "6  ENG    762\n",
       "7  AUS    754\n",
       "8   NZ    750\n",
       "9   SA    709"
      ]
     },
     "execution_count": 37,
     "metadata": {},
     "output_type": "execute_result"
    }
   ],
   "source": [
    "# Resultant DataFrame\n",
    "\n",
    "dataframe = pd.DataFrame({'Team':team,'Rating':rating})\n",
    "dataframe"
   ]
  },
  {
   "cell_type": "markdown",
   "id": "5a2c3065",
   "metadata": {},
   "source": [
    "# # c.Top 10 ODI bowlers along with the records of their team and rating."
   ]
  },
  {
   "cell_type": "code",
   "execution_count": 38,
   "id": "29741e00",
   "metadata": {},
   "outputs": [
    {
     "data": {
      "text/plain": [
       "<Response [200]>"
      ]
     },
     "execution_count": 38,
     "metadata": {},
     "output_type": "execute_result"
    }
   ],
   "source": [
    "# Getting access from the server\n",
    "\n",
    "odibowler = requests.get('https://www.icc-cricket.com/rankings/mens/player-rankings/odi/bowling')\n",
    "odibowler"
   ]
  },
  {
   "cell_type": "code",
   "execution_count": 39,
   "id": "c4f8edb5",
   "metadata": {},
   "outputs": [],
   "source": [
    "# Getting the html content\n",
    "\n",
    "odibowler_html = BeautifulSoup(odibowler.content)\n"
   ]
  },
  {
   "cell_type": "code",
   "execution_count": 40,
   "id": "04205779",
   "metadata": {},
   "outputs": [
    {
     "data": {
      "text/plain": [
       "['NZ                    ',\n",
       " 'AUS',\n",
       " 'ENG',\n",
       " 'AFG',\n",
       " 'BAN',\n",
       " 'NZ',\n",
       " 'IND',\n",
       " 'AUS',\n",
       " 'BAN',\n",
       " 'IRE']"
      ]
     },
     "execution_count": 40,
     "metadata": {},
     "output_type": "execute_result"
    }
   ],
   "source": [
    "# Getting Teams data\n",
    "\n",
    "teams = []\n",
    "teams.append(odibowler_html.find('div',class_='rankings-block__banner--nationality').text.replace('\\n',''))\n",
    "\n",
    "for i in odibowler_html.find_all('span',class_='table-body__logo-text'):\n",
    "    teams.append(i.text)\n",
    "\n",
    "team = []\n",
    "\n",
    "for i in range(0, 10):\n",
    "    team.append(teams[i])\n",
    "team"
   ]
  },
  {
   "cell_type": "code",
   "execution_count": 41,
   "id": "7c9d626f",
   "metadata": {},
   "outputs": [
    {
     "data": {
      "text/plain": [
       "['737', '709', '700', '697', '692', '691', '689', '652', '650', '646']"
      ]
     },
     "execution_count": 41,
     "metadata": {},
     "output_type": "execute_result"
    }
   ],
   "source": [
    "# Getting rating information\n",
    "\n",
    "rate = []\n",
    "rate.append(odibowler_html.find('div',class_='rankings-block__banner--rating').text)\n",
    "\n",
    "for i in odibowler_html.find_all('td',class_='table-body__cell rating'):\n",
    "    rate.append(i.text)\n",
    "\n",
    "rating = []\n",
    "\n",
    "for i in range(0,10):\n",
    "    rating.append(rate[i])\n",
    "rating"
   ]
  },
  {
   "cell_type": "code",
   "execution_count": 42,
   "id": "67f2be49",
   "metadata": {},
   "outputs": [
    {
     "data": {
      "text/html": [
       "<div>\n",
       "<style scoped>\n",
       "    .dataframe tbody tr th:only-of-type {\n",
       "        vertical-align: middle;\n",
       "    }\n",
       "\n",
       "    .dataframe tbody tr th {\n",
       "        vertical-align: top;\n",
       "    }\n",
       "\n",
       "    .dataframe thead th {\n",
       "        text-align: right;\n",
       "    }\n",
       "</style>\n",
       "<table border=\"1\" class=\"dataframe\">\n",
       "  <thead>\n",
       "    <tr style=\"text-align: right;\">\n",
       "      <th></th>\n",
       "      <th>Team</th>\n",
       "      <th>Rating</th>\n",
       "    </tr>\n",
       "  </thead>\n",
       "  <tbody>\n",
       "    <tr>\n",
       "      <th>0</th>\n",
       "      <td>NZ</td>\n",
       "      <td>737</td>\n",
       "    </tr>\n",
       "    <tr>\n",
       "      <th>1</th>\n",
       "      <td>AUS</td>\n",
       "      <td>709</td>\n",
       "    </tr>\n",
       "    <tr>\n",
       "      <th>2</th>\n",
       "      <td>ENG</td>\n",
       "      <td>700</td>\n",
       "    </tr>\n",
       "    <tr>\n",
       "      <th>3</th>\n",
       "      <td>AFG</td>\n",
       "      <td>697</td>\n",
       "    </tr>\n",
       "    <tr>\n",
       "      <th>4</th>\n",
       "      <td>BAN</td>\n",
       "      <td>692</td>\n",
       "    </tr>\n",
       "    <tr>\n",
       "      <th>5</th>\n",
       "      <td>NZ</td>\n",
       "      <td>691</td>\n",
       "    </tr>\n",
       "    <tr>\n",
       "      <th>6</th>\n",
       "      <td>IND</td>\n",
       "      <td>689</td>\n",
       "    </tr>\n",
       "    <tr>\n",
       "      <th>7</th>\n",
       "      <td>AUS</td>\n",
       "      <td>652</td>\n",
       "    </tr>\n",
       "    <tr>\n",
       "      <th>8</th>\n",
       "      <td>BAN</td>\n",
       "      <td>650</td>\n",
       "    </tr>\n",
       "    <tr>\n",
       "      <th>9</th>\n",
       "      <td>IRE</td>\n",
       "      <td>646</td>\n",
       "    </tr>\n",
       "  </tbody>\n",
       "</table>\n",
       "</div>"
      ],
      "text/plain": [
       "                     Team Rating\n",
       "0  NZ                        737\n",
       "1                     AUS    709\n",
       "2                     ENG    700\n",
       "3                     AFG    697\n",
       "4                     BAN    692\n",
       "5                      NZ    691\n",
       "6                     IND    689\n",
       "7                     AUS    652\n",
       "8                     BAN    650\n",
       "9                     IRE    646"
      ]
     },
     "execution_count": 42,
     "metadata": {},
     "output_type": "execute_result"
    }
   ],
   "source": [
    "# Resultant DataFame\n",
    "\n",
    "data = pd.DataFrame({'Team':team,'Rating':rating})\n",
    "data"
   ]
  },
  {
   "cell_type": "markdown",
   "id": "87164679",
   "metadata": {},
   "source": [
    "# 6. Write a python program to scrape cricket rankings from icc-cricket.com .\n"
   ]
  },
  {
   "cell_type": "markdown",
   "id": "8acef3e6",
   "metadata": {},
   "source": [
    "# a) Top 10 ODI Teams in women's cricket along with the records for matches,points and rating"
   ]
  },
  {
   "cell_type": "code",
   "execution_count": 43,
   "id": "9a47e16c",
   "metadata": {},
   "outputs": [
    {
     "data": {
      "text/plain": [
       "<Response [200]>"
      ]
     },
     "execution_count": 43,
     "metadata": {},
     "output_type": "execute_result"
    }
   ],
   "source": [
    "# Getting request from server\n",
    "\n",
    "odiwomen = requests.get('https://www.icc-cricket.com/rankings/womens/team-rankings/odi')\n",
    "odiwomen"
   ]
  },
  {
   "cell_type": "code",
   "execution_count": 44,
   "id": "90f99c51",
   "metadata": {},
   "outputs": [],
   "source": [
    "# Getting the html content\n",
    "\n",
    "odiwomen_html = BeautifulSoup(odiwomen.content,'html.parser')\n"
   ]
  },
  {
   "cell_type": "code",
   "execution_count": 45,
   "id": "b618088b",
   "metadata": {},
   "outputs": [
    {
     "name": "stdout",
     "output_type": "stream",
     "text": [
      "['17', '19', '18', '17', '5', '19', '19', '19', '5', '5']\n",
      "\n",
      "\n",
      "['2,746', '2,307', '2,148', '1,899', '475', '1,668', '1,658', '1,304', '240', '233']\n"
     ]
    }
   ],
   "source": [
    "# Getting Womens matches data\n",
    "\n",
    "matchs = []\n",
    "matchs.append(odiwomen_html.find('td',class_='rankings-block__banner--matches').text)\n",
    "matchs.append(odiwomen_html.find('td',class_='rankings-block__banner--points').text)\n",
    "\n",
    "for i in odiwomen_html.find_all('td',class_='table-body__cell u-center-text'):\n",
    "    matchs.append(i.text)\n",
    "matchs\n",
    "\n",
    "\n",
    "match = []\n",
    "points = []\n",
    "for i in range(0, 20):\n",
    "    if i % 2:\n",
    "        points.append(matchs[i])\n",
    "    else :\n",
    "        match.append(matchs[i])\n",
    "\n",
    "print(match)\n",
    "print('\\n')\n",
    "print(points)    "
   ]
  },
  {
   "cell_type": "code",
   "execution_count": 46,
   "id": "c2d53297",
   "metadata": {},
   "outputs": [
    {
     "data": {
      "text/plain": [
       "['                            162                            ',\n",
       " '121',\n",
       " '119',\n",
       " '112',\n",
       " '95',\n",
       " '88',\n",
       " '87',\n",
       " '69',\n",
       " '48',\n",
       " '47']"
      ]
     },
     "execution_count": 46,
     "metadata": {},
     "output_type": "execute_result"
    }
   ],
   "source": [
    "# Getting rating data\n",
    "\n",
    "rate =[]\n",
    "rate.append(odiwomen_html.find('td',class_='rankings-block__banner--rating u-text-right').text.replace('\\n',''))\n",
    "\n",
    "for i in odiwomen_html.find_all('td',class_='table-body__cell u-text-right rating'):\n",
    "    rate.append(i.text)\n",
    "\n",
    "rating = []\n",
    "for i in range(0, 10):\n",
    "    rating.append(rate[i])\n",
    "rating"
   ]
  },
  {
   "cell_type": "code",
   "execution_count": 47,
   "id": "7d44cc76",
   "metadata": {},
   "outputs": [
    {
     "data": {
      "text/html": [
       "<div>\n",
       "<style scoped>\n",
       "    .dataframe tbody tr th:only-of-type {\n",
       "        vertical-align: middle;\n",
       "    }\n",
       "\n",
       "    .dataframe tbody tr th {\n",
       "        vertical-align: top;\n",
       "    }\n",
       "\n",
       "    .dataframe thead th {\n",
       "        text-align: right;\n",
       "    }\n",
       "</style>\n",
       "<table border=\"1\" class=\"dataframe\">\n",
       "  <thead>\n",
       "    <tr style=\"text-align: right;\">\n",
       "      <th></th>\n",
       "      <th>Matches</th>\n",
       "      <th>Points</th>\n",
       "      <th>Rating</th>\n",
       "    </tr>\n",
       "  </thead>\n",
       "  <tbody>\n",
       "    <tr>\n",
       "      <th>0</th>\n",
       "      <td>17</td>\n",
       "      <td>2,746</td>\n",
       "      <td>162               ...</td>\n",
       "    </tr>\n",
       "    <tr>\n",
       "      <th>1</th>\n",
       "      <td>19</td>\n",
       "      <td>2,307</td>\n",
       "      <td>121</td>\n",
       "    </tr>\n",
       "    <tr>\n",
       "      <th>2</th>\n",
       "      <td>18</td>\n",
       "      <td>2,148</td>\n",
       "      <td>119</td>\n",
       "    </tr>\n",
       "    <tr>\n",
       "      <th>3</th>\n",
       "      <td>17</td>\n",
       "      <td>1,899</td>\n",
       "      <td>112</td>\n",
       "    </tr>\n",
       "    <tr>\n",
       "      <th>4</th>\n",
       "      <td>5</td>\n",
       "      <td>475</td>\n",
       "      <td>95</td>\n",
       "    </tr>\n",
       "    <tr>\n",
       "      <th>5</th>\n",
       "      <td>19</td>\n",
       "      <td>1,668</td>\n",
       "      <td>88</td>\n",
       "    </tr>\n",
       "    <tr>\n",
       "      <th>6</th>\n",
       "      <td>19</td>\n",
       "      <td>1,658</td>\n",
       "      <td>87</td>\n",
       "    </tr>\n",
       "    <tr>\n",
       "      <th>7</th>\n",
       "      <td>19</td>\n",
       "      <td>1,304</td>\n",
       "      <td>69</td>\n",
       "    </tr>\n",
       "    <tr>\n",
       "      <th>8</th>\n",
       "      <td>5</td>\n",
       "      <td>240</td>\n",
       "      <td>48</td>\n",
       "    </tr>\n",
       "    <tr>\n",
       "      <th>9</th>\n",
       "      <td>5</td>\n",
       "      <td>233</td>\n",
       "      <td>47</td>\n",
       "    </tr>\n",
       "  </tbody>\n",
       "</table>\n",
       "</div>"
      ],
      "text/plain": [
       "  Matches Points                                             Rating\n",
       "0      17  2,746                              162               ...\n",
       "1      19  2,307                                                121\n",
       "2      18  2,148                                                119\n",
       "3      17  1,899                                                112\n",
       "4       5    475                                                 95\n",
       "5      19  1,668                                                 88\n",
       "6      19  1,658                                                 87\n",
       "7      19  1,304                                                 69\n",
       "8       5    240                                                 48\n",
       "9       5    233                                                 47"
      ]
     },
     "execution_count": 47,
     "metadata": {},
     "output_type": "execute_result"
    }
   ],
   "source": [
    "# Resultant DataFrame\n",
    "\n",
    "import pandas as pd\n",
    "data = pd.DataFrame({'Matches':match,'Points':points,'Rating':rating})\n",
    "data"
   ]
  },
  {
   "cell_type": "markdown",
   "id": "ddcf0396",
   "metadata": {},
   "source": [
    "# b) Top 10 womens ODI Batting players along with the records of their team and rating"
   ]
  },
  {
   "cell_type": "code",
   "execution_count": 48,
   "id": "0893512b",
   "metadata": {},
   "outputs": [
    {
     "data": {
      "text/plain": [
       "<Response [200]>"
      ]
     },
     "execution_count": 48,
     "metadata": {},
     "output_type": "execute_result"
    }
   ],
   "source": [
    "# Getting access from the server\n",
    "\n",
    "batting = requests.get('https://www.icc-cricket.com/rankings/womens/player-rankings/odi')\n",
    "batting"
   ]
  },
  {
   "cell_type": "code",
   "execution_count": 49,
   "id": "957d5bbb",
   "metadata": {},
   "outputs": [],
   "source": [
    "# Getting html content\n",
    "\n",
    "batting_html = BeautifulSoup(batting.content,'html.parser')\n"
   ]
  },
  {
   "cell_type": "code",
   "execution_count": 50,
   "id": "f4624c82",
   "metadata": {},
   "outputs": [
    {
     "data": {
      "text/plain": [
       "['AU', 'IND', 'SA', 'ENG', 'NZ', 'IND', 'AUS', 'AUS', 'ENG', 'AUS']"
      ]
     },
     "execution_count": 50,
     "metadata": {},
     "output_type": "execute_result"
    }
   ],
   "source": [
    "# Getting team data\n",
    "\n",
    "teams = []\n",
    "t = batting_html.findChild('div',class_='rankings-block__banner--nationality').text.replace('\\n','')\n",
    "n = len(t)\n",
    "\n",
    "teams.append(t[:2])\n",
    "\n",
    "for i in batting_html.find_all('span',class_='table-body__logo-text'):\n",
    "    teams.append(i.text)\n",
    "\n",
    "\n",
    "team = []\n",
    "for i in range(0,10):\n",
    "    team.append(teams[i])\n",
    "team"
   ]
  },
  {
   "cell_type": "code",
   "execution_count": 51,
   "id": "b58d7c8a",
   "metadata": {},
   "outputs": [
    {
     "data": {
      "text/plain": [
       "['750', '738', '731', '728', '717', '710', '699', '690', '674', '668']"
      ]
     },
     "execution_count": 51,
     "metadata": {},
     "output_type": "execute_result"
    }
   ],
   "source": [
    "#Getting rating data\n",
    "\n",
    "rate = []\n",
    "rate.append(batting_html.find('div',class_='rankings-block__banner--rating').text)\n",
    "\n",
    "\n",
    "for i in batting_html.find_all('td',class_='table-body__cell u-text-right rating'):\n",
    "    rate.append(i.text)\n",
    "\n",
    "rating = []\n",
    "for i in range(0,10):\n",
    "    rating.append(rate[i])\n",
    "rating\n"
   ]
  },
  {
   "cell_type": "code",
   "execution_count": 52,
   "id": "6fdca50e",
   "metadata": {},
   "outputs": [
    {
     "data": {
      "text/html": [
       "<div>\n",
       "<style scoped>\n",
       "    .dataframe tbody tr th:only-of-type {\n",
       "        vertical-align: middle;\n",
       "    }\n",
       "\n",
       "    .dataframe tbody tr th {\n",
       "        vertical-align: top;\n",
       "    }\n",
       "\n",
       "    .dataframe thead th {\n",
       "        text-align: right;\n",
       "    }\n",
       "</style>\n",
       "<table border=\"1\" class=\"dataframe\">\n",
       "  <thead>\n",
       "    <tr style=\"text-align: right;\">\n",
       "      <th></th>\n",
       "      <th>Team</th>\n",
       "      <th>Rating</th>\n",
       "    </tr>\n",
       "  </thead>\n",
       "  <tbody>\n",
       "    <tr>\n",
       "      <th>0</th>\n",
       "      <td>AU</td>\n",
       "      <td>750</td>\n",
       "    </tr>\n",
       "    <tr>\n",
       "      <th>1</th>\n",
       "      <td>IND</td>\n",
       "      <td>738</td>\n",
       "    </tr>\n",
       "    <tr>\n",
       "      <th>2</th>\n",
       "      <td>SA</td>\n",
       "      <td>731</td>\n",
       "    </tr>\n",
       "    <tr>\n",
       "      <th>3</th>\n",
       "      <td>ENG</td>\n",
       "      <td>728</td>\n",
       "    </tr>\n",
       "    <tr>\n",
       "      <th>4</th>\n",
       "      <td>NZ</td>\n",
       "      <td>717</td>\n",
       "    </tr>\n",
       "    <tr>\n",
       "      <th>5</th>\n",
       "      <td>IND</td>\n",
       "      <td>710</td>\n",
       "    </tr>\n",
       "    <tr>\n",
       "      <th>6</th>\n",
       "      <td>AUS</td>\n",
       "      <td>699</td>\n",
       "    </tr>\n",
       "    <tr>\n",
       "      <th>7</th>\n",
       "      <td>AUS</td>\n",
       "      <td>690</td>\n",
       "    </tr>\n",
       "    <tr>\n",
       "      <th>8</th>\n",
       "      <td>ENG</td>\n",
       "      <td>674</td>\n",
       "    </tr>\n",
       "    <tr>\n",
       "      <th>9</th>\n",
       "      <td>AUS</td>\n",
       "      <td>668</td>\n",
       "    </tr>\n",
       "  </tbody>\n",
       "</table>\n",
       "</div>"
      ],
      "text/plain": [
       "  Team Rating\n",
       "0   AU    750\n",
       "1  IND    738\n",
       "2   SA    731\n",
       "3  ENG    728\n",
       "4   NZ    717\n",
       "5  IND    710\n",
       "6  AUS    699\n",
       "7  AUS    690\n",
       "8  ENG    674\n",
       "9  AUS    668"
      ]
     },
     "execution_count": 52,
     "metadata": {},
     "output_type": "execute_result"
    }
   ],
   "source": [
    "# Resultant DataFrame\n",
    "\n",
    "df = pd.DataFrame({'Team':team,'Rating':rating})\n",
    "df"
   ]
  },
  {
   "cell_type": "markdown",
   "id": "02eee36c",
   "metadata": {},
   "source": [
    "# c) Write a python to display TOP 10 ODI all-rounder along with the records of their team and rating"
   ]
  },
  {
   "cell_type": "code",
   "execution_count": 53,
   "id": "644514a4",
   "metadata": {},
   "outputs": [
    {
     "data": {
      "text/plain": [
       "<Response [200]>"
      ]
     },
     "execution_count": 53,
     "metadata": {},
     "output_type": "execute_result"
    }
   ],
   "source": [
    "# Getting access from server\n",
    "\n",
    "allrounder = requests.get('https://www.icc-cricket.com/rankings/womens/player-rankings/odi/batting')\n",
    "allrounder"
   ]
  },
  {
   "cell_type": "code",
   "execution_count": 54,
   "id": "d39f02f3",
   "metadata": {},
   "outputs": [],
   "source": [
    "# Getting html content\n",
    "\n",
    "allrounder_html = BeautifulSoup(allrounder.content)\n"
   ]
  },
  {
   "cell_type": "code",
   "execution_count": 55,
   "id": "72482bad",
   "metadata": {},
   "outputs": [
    {
     "data": {
      "text/plain": [
       "['AUS                    ',\n",
       " 'IND',\n",
       " 'SA',\n",
       " 'ENG',\n",
       " 'NZ',\n",
       " 'IND',\n",
       " 'AUS',\n",
       " 'AUS',\n",
       " 'ENG',\n",
       " 'AUS']"
      ]
     },
     "execution_count": 55,
     "metadata": {},
     "output_type": "execute_result"
    }
   ],
   "source": [
    "# Getting Teams data\n",
    "\n",
    "team = []\n",
    "team.append(allrounder_html.find('div',class_='rankings-block__banner--nationality').text.replace('\\n',''))\n",
    "\n",
    "for i in allrounder_html('span',class_='table-body__logo-text'):\n",
    "    team.append(i.text)\n",
    "#team\n",
    "\n",
    "teams = []\n",
    "for i in range(0,10):\n",
    "    teams.append(team[i])\n",
    "teams"
   ]
  },
  {
   "cell_type": "code",
   "execution_count": 56,
   "id": "c14d387d",
   "metadata": {},
   "outputs": [
    {
     "data": {
      "text/plain": [
       "['750', '738', '731', '728', '717', '710', '699', '690', '674', '668']"
      ]
     },
     "execution_count": 56,
     "metadata": {},
     "output_type": "execute_result"
    }
   ],
   "source": [
    "# Getting the rating data\n",
    "\n",
    "rate = []\n",
    "rate.append(allrounder_html.find('div',class_='rankings-block__banner--rating').text)\n",
    "#rate\n",
    "\n",
    "for i in allrounder_html.find_all('td',class_='table-body__cell rating'):\n",
    "    rate.append(i.text)\n",
    "#rate\n",
    "rating = []\n",
    "for i in range(0,10):\n",
    "    rating.append(rate[i])\n",
    "rating\n"
   ]
  },
  {
   "cell_type": "code",
   "execution_count": 57,
   "id": "c45eee7f",
   "metadata": {},
   "outputs": [
    {
     "data": {
      "text/html": [
       "<div>\n",
       "<style scoped>\n",
       "    .dataframe tbody tr th:only-of-type {\n",
       "        vertical-align: middle;\n",
       "    }\n",
       "\n",
       "    .dataframe tbody tr th {\n",
       "        vertical-align: top;\n",
       "    }\n",
       "\n",
       "    .dataframe thead th {\n",
       "        text-align: right;\n",
       "    }\n",
       "</style>\n",
       "<table border=\"1\" class=\"dataframe\">\n",
       "  <thead>\n",
       "    <tr style=\"text-align: right;\">\n",
       "      <th></th>\n",
       "      <th>Team</th>\n",
       "      <th>Rating</th>\n",
       "    </tr>\n",
       "  </thead>\n",
       "  <tbody>\n",
       "    <tr>\n",
       "      <th>0</th>\n",
       "      <td>AUS</td>\n",
       "      <td>750</td>\n",
       "    </tr>\n",
       "    <tr>\n",
       "      <th>1</th>\n",
       "      <td>IND</td>\n",
       "      <td>738</td>\n",
       "    </tr>\n",
       "    <tr>\n",
       "      <th>2</th>\n",
       "      <td>SA</td>\n",
       "      <td>731</td>\n",
       "    </tr>\n",
       "    <tr>\n",
       "      <th>3</th>\n",
       "      <td>ENG</td>\n",
       "      <td>728</td>\n",
       "    </tr>\n",
       "    <tr>\n",
       "      <th>4</th>\n",
       "      <td>NZ</td>\n",
       "      <td>717</td>\n",
       "    </tr>\n",
       "    <tr>\n",
       "      <th>5</th>\n",
       "      <td>IND</td>\n",
       "      <td>710</td>\n",
       "    </tr>\n",
       "    <tr>\n",
       "      <th>6</th>\n",
       "      <td>AUS</td>\n",
       "      <td>699</td>\n",
       "    </tr>\n",
       "    <tr>\n",
       "      <th>7</th>\n",
       "      <td>AUS</td>\n",
       "      <td>690</td>\n",
       "    </tr>\n",
       "    <tr>\n",
       "      <th>8</th>\n",
       "      <td>ENG</td>\n",
       "      <td>674</td>\n",
       "    </tr>\n",
       "    <tr>\n",
       "      <th>9</th>\n",
       "      <td>AUS</td>\n",
       "      <td>668</td>\n",
       "    </tr>\n",
       "  </tbody>\n",
       "</table>\n",
       "</div>"
      ],
      "text/plain": [
       "                      Team Rating\n",
       "0  AUS                        750\n",
       "1                      IND    738\n",
       "2                       SA    731\n",
       "3                      ENG    728\n",
       "4                       NZ    717\n",
       "5                      IND    710\n",
       "6                      AUS    699\n",
       "7                      AUS    690\n",
       "8                      ENG    674\n",
       "9                      AUS    668"
      ]
     },
     "execution_count": 57,
     "metadata": {},
     "output_type": "execute_result"
    }
   ],
   "source": [
    "#Resultant DataFrame\n",
    "\n",
    "data = pd.DataFrame({'Team':teams,'Rating':rating})\n",
    "data"
   ]
  },
  {
   "cell_type": "markdown",
   "id": "a8947e82",
   "metadata": {},
   "source": [
    "#  7 .Wrtie a python program to display all the details of all the posts from coreyms.com.Scrape the Heading,date,content and code for youtube from the link for the youtube video from the post"
   ]
  },
  {
   "cell_type": "code",
   "execution_count": 58,
   "id": "9a6b3060",
   "metadata": {},
   "outputs": [
    {
     "data": {
      "text/plain": [
       "<Response [200]>"
      ]
     },
     "execution_count": 58,
     "metadata": {},
     "output_type": "execute_result"
    }
   ],
   "source": [
    "# Getting acceptance for data scraping\n",
    "\n",
    "page = requests.get('https://coreyms.com/')\n",
    "page"
   ]
  },
  {
   "cell_type": "code",
   "execution_count": 59,
   "id": "a3bf806e",
   "metadata": {},
   "outputs": [],
   "source": [
    "# HTML content\n",
    "\n",
    "soup = BeautifulSoup(page.content,'html.parser')\n"
   ]
  },
  {
   "cell_type": "code",
   "execution_count": 60,
   "id": "33bf876c",
   "metadata": {},
   "outputs": [
    {
     "data": {
      "text/plain": [
       "['Python Tutorial: Zip Files – Creating and Extracting Zip Archives',\n",
       " 'Python Data Science Tutorial: Analyzing the 2019 Stack Overflow Developer Survey',\n",
       " 'Python Multiprocessing Tutorial: Run Code in Parallel Using the Multiprocessing Module',\n",
       " 'Python Threading Tutorial: Run Code Concurrently Using the Threading Module',\n",
       " 'Update (2019-09-03)',\n",
       " 'Python Quick Tip: The Difference Between “==” and “is” (Equality vs Identity)',\n",
       " 'Python Tutorial: Calling External Commands Using the Subprocess Module',\n",
       " 'Visual Studio Code (Windows) – Setting up a Python Development Environment and Complete Overview',\n",
       " 'Visual Studio Code (Mac) – Setting up a Python Development Environment and Complete Overview',\n",
       " 'Clarifying the Issues with Mutable Default Arguments']"
      ]
     },
     "execution_count": 60,
     "metadata": {},
     "output_type": "execute_result"
    }
   ],
   "source": [
    "# Scarping the Header data\n",
    "\n",
    "header = []\n",
    "for i in soup.find_all('a',class_='entry-title-link'):\n",
    "    header.append(i.text)\n",
    "header\n"
   ]
  },
  {
   "cell_type": "code",
   "execution_count": 61,
   "id": "62c169aa",
   "metadata": {},
   "outputs": [
    {
     "data": {
      "text/plain": [
       "['November 19, 2019',\n",
       " 'October 17, 2019',\n",
       " 'September 21, 2019',\n",
       " 'September 12, 2019',\n",
       " 'September 3, 2019',\n",
       " 'August 6, 2019',\n",
       " 'July 24, 2019',\n",
       " 'May 1, 2019',\n",
       " 'May 1, 2019',\n",
       " 'April 24, 2019']"
      ]
     },
     "execution_count": 61,
     "metadata": {},
     "output_type": "execute_result"
    }
   ],
   "source": [
    "# Scraping the entry_date\n",
    "\n",
    "entry_date = []\n",
    "for i in soup.find_all('time',class_='entry-time'):\n",
    "    entry_date.append(i.text)\n",
    "entry_date\n"
   ]
  },
  {
   "cell_type": "code",
   "execution_count": 62,
   "id": "cc0870ad",
   "metadata": {},
   "outputs": [
    {
     "data": {
      "text/plain": [
       "['https://www.youtube.com/embed/z0gguhEmWiY?version=3&rel=1&showsearch=0&showinfo=1&iv_load_policy=1&fs=1&hl=en-US&autohide=2&wmode=transparent',\n",
       " 'https://www.youtube.com/embed/_P7X8tMplsw?version=3&rel=1&showsearch=0&showinfo=1&iv_load_policy=1&fs=1&hl=en-US&autohide=2&wmode=transparent',\n",
       " 'https://www.youtube.com/embed/fKl2JW_qrso?version=3&rel=1&showsearch=0&showinfo=1&iv_load_policy=1&fs=1&hl=en-US&autohide=2&wmode=transparent',\n",
       " 'https://www.youtube.com/embed/IEEhzQoKtQU?version=3&rel=1&showsearch=0&showinfo=1&iv_load_policy=1&fs=1&hl=en-US&autohide=2&wmode=transparent',\n",
       " 'None',\n",
       " 'https://www.youtube.com/embed/mO_dS3rXDIs?version=3&rel=1&showsearch=0&showinfo=1&iv_load_policy=1&fs=1&hl=en-US&autohide=2&wmode=transparent',\n",
       " 'https://www.youtube.com/embed/2Fp1N6dof0Y?version=3&rel=1&showsearch=0&showinfo=1&iv_load_policy=1&fs=1&hl=en-US&autohide=2&wmode=transparent',\n",
       " 'https://www.youtube.com/embed/-nh9rCzPJ20?version=3&rel=1&showsearch=0&showinfo=1&iv_load_policy=1&fs=1&hl=en-US&autohide=2&wmode=transparent',\n",
       " 'https://www.youtube.com/embed/06I63_p-2A4?version=3&rel=1&showsearch=0&showinfo=1&iv_load_policy=1&fs=1&hl=en-US&autohide=2&wmode=transparent',\n",
       " 'https://www.youtube.com/embed/_JGmemuINww?version=3&rel=1&showsearch=0&showinfo=1&iv_load_policy=1&fs=1&hl=en-US&autohide=2&wmode=transparent']"
      ]
     },
     "execution_count": 62,
     "metadata": {},
     "output_type": "execute_result"
    }
   ],
   "source": [
    "# Scraping the youtube links\n",
    "\n",
    "youtube = []\n",
    "links =[]\n",
    "for i in soup.find_all('div',class_='entry-content'):\n",
    "    youtube.append(i.iframe)\n",
    "youtube\n",
    "\n",
    "for i in youtube:\n",
    "    try:\n",
    "        links.append(i['src'])\n",
    "    except:\n",
    "        links.append('None') \n",
    "links"
   ]
  },
  {
   "cell_type": "code",
   "execution_count": 63,
   "id": "bc0e54c4",
   "metadata": {},
   "outputs": [
    {
     "data": {
      "text/plain": [
       "['In this video, we will be learning how to create and extract zip archives. We will start by using the zipfile module, and then we will see how to do this using the shutil module. We will learn how to do this with single files and directories, as well as learning how to use gzip as well. Let’s get started…',\n",
       " 'In this Python Programming video, we will be learning how to download and analyze real-world data from the 2019 Stack Overflow Developer Survey. This is terrific practice for anyone getting into the data science field. We will learn different ways to analyze this data and also some best practices. Let’s get started…',\n",
       " 'In this Python Programming video, we will be learning how to run code in parallel using the multiprocessing module. We will also look at how to process multiple high-resolution images at the same time using a ProcessPoolExecutor from the concurrent.futures module. Let’s get started…',\n",
       " 'In this Python Programming video, we will be learning how to run threads concurrently using the threading module. We will also look at how to download multiple high-resolution images online using a ThreadPoolExecutor from the concurrent.futures module. Let’s get started…',\n",
       " 'Hey everyone. I wanted to give you an update on my videos. I will be releasing videos on threading and multiprocessing within the next week. Thanks so much for your patience. I currently have a temporary recording studio setup at my Airbnb that will allow me to record and edit the threading/multiprocessing videos. I am going to be moving into my new house in 10 days and once I have my recording studio setup then you can expect much faster video releases. I really appreciate how patient everyone has been while I go through this move, especially those of you who are contributing monthly through YouTube ',\n",
       " 'In this Python Programming Tutorial, we will be learning the difference between using “==” and the “is” keyword when doing comparisons. The difference between these is that “==” checks to see if values are equal, and the “is” keyword checks their identity, which means it’s going to check if the values are identical in terms of being the same object in memory. We’ll learn more in the video. Let’s get started…',\n",
       " 'In this Python Programming Tutorial, we will be learning how to run external commands using the subprocess module from the standard library. We will learn how to run commands, capture the output, handle errors, and also how to pipe output into other commands. Let’s get started…',\n",
       " 'In this Python Programming Tutorial, we will be learning how to set up a Python development environment in VSCode on Windows. VSCode is a very nice free editor for writing Python applications and many developers are now switching over to this editor. In this video, we will learn how to install VSCode, get the Python extension installed, how to change Python interpreters, create virtual environments, format/lint our code, how to use Git within VSCode, how to debug our programs, how unit testing works, and more. We have a lot to cover, so let’s go ahead and get started…',\n",
       " 'In this Python Programming Tutorial, we will be learning how to set up a Python development environment in VSCode on MacOS. VSCode is a very nice free editor for writing Python applications and many developers are now switching over to this editor. In this video, we will learn how to install VSCode, get the Python extension installed, how to change Python interpreters, create virtual environments, format/lint our code, how to use Git within VSCode, how to debug our programs, how unit testing works, and more. We have a lot to cover, so let’s go ahead and get started…',\n",
       " 'In this Python Programming Tutorial, we will be clarifying the issues with mutable default arguments. We discussed this in my last video titled “5 Common Python Mistakes and How to Fix Them”, but I received many comments from people who were still confused. So we will be doing a deeper dive to explain exactly what is going on here. Let’s get started…']"
      ]
     },
     "execution_count": 63,
     "metadata": {},
     "output_type": "execute_result"
    }
   ],
   "source": [
    "#Scraping content of the page  \n",
    "\n",
    "content = []\n",
    "for i in soup.find_all('div',class_='entry-content'):\n",
    "    content.append(i.p.text)\n",
    "content"
   ]
  },
  {
   "cell_type": "code",
   "execution_count": 64,
   "id": "6a6f6b7a",
   "metadata": {},
   "outputs": [
    {
     "data": {
      "text/html": [
       "<div>\n",
       "<style scoped>\n",
       "    .dataframe tbody tr th:only-of-type {\n",
       "        vertical-align: middle;\n",
       "    }\n",
       "\n",
       "    .dataframe tbody tr th {\n",
       "        vertical-align: top;\n",
       "    }\n",
       "\n",
       "    .dataframe thead th {\n",
       "        text-align: right;\n",
       "    }\n",
       "</style>\n",
       "<table border=\"1\" class=\"dataframe\">\n",
       "  <thead>\n",
       "    <tr style=\"text-align: right;\">\n",
       "      <th></th>\n",
       "      <th>Header</th>\n",
       "      <th>Entry_Date</th>\n",
       "      <th>Content</th>\n",
       "      <th>Youtube_link</th>\n",
       "    </tr>\n",
       "  </thead>\n",
       "  <tbody>\n",
       "    <tr>\n",
       "      <th>0</th>\n",
       "      <td>Python Tutorial: Zip Files – Creating and Extr...</td>\n",
       "      <td>November 19, 2019</td>\n",
       "      <td>In this video, we will be learning how to crea...</td>\n",
       "      <td>https://www.youtube.com/embed/z0gguhEmWiY?vers...</td>\n",
       "    </tr>\n",
       "    <tr>\n",
       "      <th>1</th>\n",
       "      <td>Python Data Science Tutorial: Analyzing the 20...</td>\n",
       "      <td>October 17, 2019</td>\n",
       "      <td>In this Python Programming video, we will be l...</td>\n",
       "      <td>https://www.youtube.com/embed/_P7X8tMplsw?vers...</td>\n",
       "    </tr>\n",
       "    <tr>\n",
       "      <th>2</th>\n",
       "      <td>Python Multiprocessing Tutorial: Run Code in P...</td>\n",
       "      <td>September 21, 2019</td>\n",
       "      <td>In this Python Programming video, we will be l...</td>\n",
       "      <td>https://www.youtube.com/embed/fKl2JW_qrso?vers...</td>\n",
       "    </tr>\n",
       "    <tr>\n",
       "      <th>3</th>\n",
       "      <td>Python Threading Tutorial: Run Code Concurrent...</td>\n",
       "      <td>September 12, 2019</td>\n",
       "      <td>In this Python Programming video, we will be l...</td>\n",
       "      <td>https://www.youtube.com/embed/IEEhzQoKtQU?vers...</td>\n",
       "    </tr>\n",
       "    <tr>\n",
       "      <th>4</th>\n",
       "      <td>Update (2019-09-03)</td>\n",
       "      <td>September 3, 2019</td>\n",
       "      <td>Hey everyone. I wanted to give you an update o...</td>\n",
       "      <td>None</td>\n",
       "    </tr>\n",
       "    <tr>\n",
       "      <th>5</th>\n",
       "      <td>Python Quick Tip: The Difference Between “==” ...</td>\n",
       "      <td>August 6, 2019</td>\n",
       "      <td>In this Python Programming Tutorial, we will b...</td>\n",
       "      <td>https://www.youtube.com/embed/mO_dS3rXDIs?vers...</td>\n",
       "    </tr>\n",
       "    <tr>\n",
       "      <th>6</th>\n",
       "      <td>Python Tutorial: Calling External Commands Usi...</td>\n",
       "      <td>July 24, 2019</td>\n",
       "      <td>In this Python Programming Tutorial, we will b...</td>\n",
       "      <td>https://www.youtube.com/embed/2Fp1N6dof0Y?vers...</td>\n",
       "    </tr>\n",
       "    <tr>\n",
       "      <th>7</th>\n",
       "      <td>Visual Studio Code (Windows) – Setting up a Py...</td>\n",
       "      <td>May 1, 2019</td>\n",
       "      <td>In this Python Programming Tutorial, we will b...</td>\n",
       "      <td>https://www.youtube.com/embed/-nh9rCzPJ20?vers...</td>\n",
       "    </tr>\n",
       "    <tr>\n",
       "      <th>8</th>\n",
       "      <td>Visual Studio Code (Mac) – Setting up a Python...</td>\n",
       "      <td>May 1, 2019</td>\n",
       "      <td>In this Python Programming Tutorial, we will b...</td>\n",
       "      <td>https://www.youtube.com/embed/06I63_p-2A4?vers...</td>\n",
       "    </tr>\n",
       "    <tr>\n",
       "      <th>9</th>\n",
       "      <td>Clarifying the Issues with Mutable Default Arg...</td>\n",
       "      <td>April 24, 2019</td>\n",
       "      <td>In this Python Programming Tutorial, we will b...</td>\n",
       "      <td>https://www.youtube.com/embed/_JGmemuINww?vers...</td>\n",
       "    </tr>\n",
       "  </tbody>\n",
       "</table>\n",
       "</div>"
      ],
      "text/plain": [
       "                                              Header          Entry_Date  \\\n",
       "0  Python Tutorial: Zip Files – Creating and Extr...   November 19, 2019   \n",
       "1  Python Data Science Tutorial: Analyzing the 20...    October 17, 2019   \n",
       "2  Python Multiprocessing Tutorial: Run Code in P...  September 21, 2019   \n",
       "3  Python Threading Tutorial: Run Code Concurrent...  September 12, 2019   \n",
       "4                                Update (2019-09-03)   September 3, 2019   \n",
       "5  Python Quick Tip: The Difference Between “==” ...      August 6, 2019   \n",
       "6  Python Tutorial: Calling External Commands Usi...       July 24, 2019   \n",
       "7  Visual Studio Code (Windows) – Setting up a Py...         May 1, 2019   \n",
       "8  Visual Studio Code (Mac) – Setting up a Python...         May 1, 2019   \n",
       "9  Clarifying the Issues with Mutable Default Arg...      April 24, 2019   \n",
       "\n",
       "                                             Content  \\\n",
       "0  In this video, we will be learning how to crea...   \n",
       "1  In this Python Programming video, we will be l...   \n",
       "2  In this Python Programming video, we will be l...   \n",
       "3  In this Python Programming video, we will be l...   \n",
       "4  Hey everyone. I wanted to give you an update o...   \n",
       "5  In this Python Programming Tutorial, we will b...   \n",
       "6  In this Python Programming Tutorial, we will b...   \n",
       "7  In this Python Programming Tutorial, we will b...   \n",
       "8  In this Python Programming Tutorial, we will b...   \n",
       "9  In this Python Programming Tutorial, we will b...   \n",
       "\n",
       "                                        Youtube_link  \n",
       "0  https://www.youtube.com/embed/z0gguhEmWiY?vers...  \n",
       "1  https://www.youtube.com/embed/_P7X8tMplsw?vers...  \n",
       "2  https://www.youtube.com/embed/fKl2JW_qrso?vers...  \n",
       "3  https://www.youtube.com/embed/IEEhzQoKtQU?vers...  \n",
       "4                                               None  \n",
       "5  https://www.youtube.com/embed/mO_dS3rXDIs?vers...  \n",
       "6  https://www.youtube.com/embed/2Fp1N6dof0Y?vers...  \n",
       "7  https://www.youtube.com/embed/-nh9rCzPJ20?vers...  \n",
       "8  https://www.youtube.com/embed/06I63_p-2A4?vers...  \n",
       "9  https://www.youtube.com/embed/_JGmemuINww?vers...  "
      ]
     },
     "execution_count": 64,
     "metadata": {},
     "output_type": "execute_result"
    }
   ],
   "source": [
    "#Resultant DataFrame \n",
    "\n",
    "data = pd.DataFrame({'Header':header,'Entry_Date':entry_date,'Content':content,'Youtube_link':links})\n",
    "data"
   ]
  },
  {
   "cell_type": "markdown",
   "id": "3060c495",
   "metadata": {},
   "source": [
    "# 8.Write a python program to scrape house details from mentioned URL.It should include house title,loaction,area ,EMI and price from https://www.nobroker.in three localities which are Indira Nager,jayanager,Rajaji Nagar\n"
   ]
  },
  {
   "cell_type": "code",
   "execution_count": 66,
   "id": "962def09",
   "metadata": {},
   "outputs": [
    {
     "data": {
      "text/plain": [
       "<Response [200]>"
      ]
     },
     "execution_count": 66,
     "metadata": {},
     "output_type": "execute_result"
    }
   ],
   "source": [
    "#getting access from the required server\n",
    "\n",
    "nobroker = requests.get('https://www.nobroker.in/property/sale/bangalore/multiple?searchParam=W3sibGF0IjoxMi45NzgzNjkyLCJsb24iOjc3LjY0MDgzNTYsInBsYWNlSWQiOiJDaElKa1FOM0dLUVdyanNSTmhCUUpyaEdEN1UiLCJwbGFjZU5hbWUiOiJJbmRpcmFuYWdhciJ9LHsibGF0IjoxMi45OTgxNzMyLCJsb24iOjc3LjU1MzA0NDU5OTk5OTk5LCJwbGFjZUlkIjoiQ2hJSnhmVzREUE05cmpzUktzTlRHLTVwX1FRIiwicGxhY2VOYW1lIjoiUmFqYWppbmFnYXIifSx7ImxhdCI6MTIuOTMwNzczNSwibG9uIjo3Ny41ODM4MzAyLCJwbGFjZUlkIjoiQ2hJSjJkZGxaNWdWcmpzUmgxQk9BYWYtb3JzIiwicGxhY2VOYW1lIjoiSmF5YW5hZ2FyIn1d&radius=2.0&propertyAge=0&city=bangalore&locality=Indiranagar,&locality=Rajajinagar,&locality=Jayanagar')\n",
    "nobroker"
   ]
  },
  {
   "cell_type": "code",
   "execution_count": 67,
   "id": "e01b7430",
   "metadata": {},
   "outputs": [],
   "source": [
    "# Loading HTML content\n",
    "\n",
    "nobroker_html = BeautifulSoup(nobroker.content,'html.parser')\n"
   ]
  },
  {
   "cell_type": "code",
   "execution_count": 68,
   "id": "fdc57ca9",
   "metadata": {},
   "outputs": [
    {
     "data": {
      "text/plain": [
       "['3 BHK Apartment  For Sale  In Adarsh Court Apartment In Jayanagar',\n",
       " '4+ BHK In Independent House  For Sale  In Jayanagar',\n",
       " '3 BHK Flat  For Sale  In Beverly Apartments In Hal 2nd Stage, Indiranagar',\n",
       " '3 BHK Flat  For Sale  In Hal 2nd Stage,indiranagar  ',\n",
       " '2 BHK Flat  For Sale  In Lakshmi Nivas Apartments In Srirampuram ',\n",
       " '2 BHK In Independent House  For Sale  In Jayanagar',\n",
       " '3 BHK Flat  For Sale  In Shanti Park Apartments In Jayanagara 9th Block, Jayanagar',\n",
       " '2 BHK Flat  For Sale  In Shree Enclave  In Jayanagar',\n",
       " '4 BHK Flat  For Sale  In Golfridge In Indira Nagar',\n",
       " '4 BHK In Independent House  For Sale  In Jayanagar',\n",
       " '2 BHK Apartment  For Sale  In Team Heritage Apartments In Indiranagar',\n",
       " '4+ BHK In Independent House  For Sale  In Rajajinaga ',\n",
       " '3 BHK Flat  For Sale  In Total Environment Life Is Beautiful, Jayanagar In Jayanagar',\n",
       " '4+ BHK Flat  For Sale  In Nagapura',\n",
       " '3 BHK Apartment  For Sale  In Ashiana Gardens Apartments In Indiranagar',\n",
       " '3 BHK Flat  For Sale  In Mantri Gardens Apartment In Jayanagar',\n",
       " '1 BHK Flat  For Sale  In Rajajinagar In Rajaji Nagar',\n",
       " '4+ BHK In Independent House  For Sale  In Rajaji Nagar',\n",
       " '3 BHK Flat  For Sale  In Vaishali Residency In Indiranagar',\n",
       " '2 BHK In Independent House  For Sale  In Mariyappanapalya',\n",
       " '2 BHK Flat  For Sale  In Shanthipark Apartments, 9th Block, Jayanagar, Bengaluru  In Shanthi Park Apartments',\n",
       " '4+ BHK Flat  For Sale  In Indiranagar',\n",
       " '4 BHK In Independent House  For Sale  In Rajaji Nagar',\n",
       " '4+ BHK In Independent House  For Sale  In Rajajinagar',\n",
       " '3 BHK Flat  For Sale  In Raj Kamal Apartments  In Jayanagar']"
      ]
     },
     "execution_count": 68,
     "metadata": {},
     "output_type": "execute_result"
    }
   ],
   "source": [
    "# Title of the building\n",
    "\n",
    "name = []\n",
    "for i in nobroker_html.find_all('span',class_='overflow-hidden overflow-ellipsis whitespace-nowrap max-w-80pe po:max-w-full'):\n",
    "    name.append(i.text)\n",
    "name"
   ]
  },
  {
   "cell_type": "code",
   "execution_count": 69,
   "id": "aac82281",
   "metadata": {},
   "outputs": [
    {
     "data": {
      "text/plain": [
       "['Adarsh Court Apartment\\xa0 Adarsh Court Apartment, 8th Cross Rd, 7th Block, Jayanagar, Bengaluru, Karnataka 560070, India',\n",
       " 'Independent House, 100ft Road, Ashoka Pillar Rd near Girias Jayanagar Branch',\n",
       " 'Road next to Manyavar showroom',\n",
       " 'Standalone building, 16th F main, Hal 2nd stage indrananagr blore ',\n",
       " 'behind Vishnupriya Towers,Mahakavi Kuvempu Road,  near srirampuram metro station  Karnataka Bank',\n",
       " 'Independent House, Jayanagara 9th Block, near Ragigudda Sri Prasanna Anjaneyaswamy Temple',\n",
       " 'Shanti Park Apartments',\n",
       " 'jayanagar Near Mahalakshmi Temple/Rajalakshmi Chou',\n",
       " 'embassy golf link road',\n",
       " 'Independent House, 47th Cross Rd, 8th Block, 1st Phase, Near Maha Lakshmi Temple and Sir M Vishweshwaraiah Cooperative Bank Limited',\n",
       " 'Team Heritage Apartments\\xa0 Team Heritage Apartments, 13th main,, 2nd Cross Rd, HAL 2nd Stage, Indiranagar, Bengaluru, Karnataka 560008, India',\n",
       " 'Independent House, 6th Cross Rd, 2nd Block  near  SMC Enclave ',\n",
       " '30th Cross Rd, 4th T Block , Jayanagar, Bengaluru, Karnataka 560041, India',\n",
       " 'Standalone Building, Bovipalya near Mahalakshmi Metro Station',\n",
       " 'Ashiana Gardens Apartments\\xa0 4, Sri Rama Temple Rd, Channakesahava Nagar, HAL 2nd Stage, Doopanahalli, Indiranagar, Bengaluru, Karnataka 560008, India',\n",
       " 'Mantri Gardens Apartment, Jayanagar 1st Block, Madhavan Park,, Bengaluru, Karnataka, 1st Block, Jaya Nagar East, Jayanagar, Bengaluru, Karnataka 560011, India',\n",
       " '27th cross 2nd block rajajinagar,Behind Navrang park',\n",
       " 'Independent House, 72 Cross, 12th Main Rd, RPA College, near chaitanya school ',\n",
       " 'Vaishali Residency, HAL 2nd Stage, Indiranagar, Bengaluru, Karnataka 560008, India',\n",
       " 'Independent House, Ramamohanapuram Near  Masjid e Ashrafiya',\n",
       " 'Opposite to Croma showroom',\n",
       " 'Standalone Building, HAL 2nd Stage near New Horizon Public School',\n",
       " 'Independent House, 4th Cross Rd M.R Palya, Mariyappanapalya, near  Sri Subramanya Swamy Temple',\n",
       " 'Independent House, 10th Main Rd,Near Trident Hyundai Used Car Showroom Rajajinagar - Bangalore',\n",
       " 'Near Ragigudda Temple ']"
      ]
     },
     "execution_count": 69,
     "metadata": {},
     "output_type": "execute_result"
    }
   ],
   "source": [
    "#Location \n",
    "\n",
    "location = []\n",
    "for i in nobroker_html.find_all('div',class_='mt-0.5p overflow-hidden overflow-ellipsis whitespace-nowrap max-w-70 text-gray-light leading-4 po:mb-0 po:max-w-95'):\n",
    "    location.append(i.text)\n",
    "location"
   ]
  },
  {
   "cell_type": "code",
   "execution_count": 70,
   "id": "da8872da",
   "metadata": {},
   "outputs": [
    {
     "data": {
      "text/plain": [
       "['1,990 sqft',\n",
       " '2,195 sqft',\n",
       " '1,780 sqft',\n",
       " '2,200 sqft',\n",
       " '1,255 sqft',\n",
       " '925 sqft',\n",
       " '1,420 sqft',\n",
       " '1,200 sqft',\n",
       " '2,750 sqft',\n",
       " '3,700 sqft',\n",
       " '1,100 sqft',\n",
       " '2,240 sqft',\n",
       " '2,628 sqft',\n",
       " '850 sqft',\n",
       " '1,780 sqft',\n",
       " '1,485 sqft',\n",
       " '650 sqft',\n",
       " '1,350 sqft',\n",
       " '1,300 sqft',\n",
       " '950 sqft',\n",
       " '1,280 sqft',\n",
       " '4,800 sqft',\n",
       " '975 sqft',\n",
       " '1,350 sqft',\n",
       " '1,645 sqft']"
      ]
     },
     "execution_count": 70,
     "metadata": {},
     "output_type": "execute_result"
    }
   ],
   "source": [
    "# Area in square feet\n",
    "\n",
    "area = []\n",
    "for i in nobroker_html.find_all('div',id='minRent'):\n",
    "    area.append(i.text)\n",
    "area"
   ]
  },
  {
   "cell_type": "code",
   "execution_count": 71,
   "id": "e5f07c34",
   "metadata": {},
   "outputs": [
    {
     "data": {
      "text/plain": [
       "['₹2.01 Lacs',\n",
       " '₹2.96 Lacs',\n",
       " '₹85,971',\n",
       " '₹2.29 Lacs',\n",
       " '₹56,741',\n",
       " '₹1.15 Lacs',\n",
       " '₹71,643',\n",
       " '₹74,508',\n",
       " '₹1.63 Lacs',\n",
       " '₹6.02 Lacs',\n",
       " '₹51,583',\n",
       " '₹83,679',\n",
       " '₹1.72 Lacs',\n",
       " '₹68,777',\n",
       " '₹84,825',\n",
       " '₹85,971',\n",
       " '₹28,657',\n",
       " '₹1.96 Lacs',\n",
       " '₹65,911',\n",
       " '₹73,505',\n",
       " '₹54,448',\n",
       " '₹2.29 Lacs',\n",
       " '₹28,657',\n",
       " '₹71,643',\n",
       " '₹94,568']"
      ]
     },
     "execution_count": 71,
     "metadata": {},
     "output_type": "execute_result"
    }
   ],
   "source": [
    "# EMI \n",
    "\n",
    "emi =[]\n",
    "for i in nobroker_html.find_all('div',id='roomType'):\n",
    "    emi.append(i.text.replace('/Month',''))\n",
    "    \n",
    "emi\n"
   ]
  },
  {
   "cell_type": "code",
   "execution_count": 72,
   "id": "b37f40f3",
   "metadata": {},
   "outputs": [
    {
     "data": {
      "text/plain": [
       "['₹3.5 Crores₹17,588 per sq.ft.',\n",
       " '₹5.16 Crores₹23,508 per sq.ft.',\n",
       " '₹1.5 Crores₹8,427 per sq.ft.',\n",
       " '₹4 Crores₹18,182 per sq.ft.',\n",
       " '₹99 Lacs₹7,888 per sq.ft.',\n",
       " '₹2 Crores₹21,622 per sq.ft.',\n",
       " '₹1.25 Crores₹8,803 per sq.ft.',\n",
       " '₹1.3 Crores₹10,833 per sq.ft.',\n",
       " '₹2.85 Crores₹10,364 per sq.ft.',\n",
       " '₹10.5 Crores₹28,378 per sq.ft.',\n",
       " '₹90 Lacs₹8,182 per sq.ft.',\n",
       " '₹1.46 Crores₹6,518 per sq.ft.',\n",
       " '₹3 Crores₹11,416 per sq.ft.',\n",
       " '₹1.2 Crores₹14,118 per sq.ft.',\n",
       " '₹1.48 Crores₹8,315 per sq.ft.',\n",
       " '₹1.5 Crores₹10,101 per sq.ft.',\n",
       " '₹50 Lacs₹7,692 per sq.ft.',\n",
       " '₹3.42 Crores₹25,324 per sq.ft.',\n",
       " '₹1.15 Crores₹8,846 per sq.ft.',\n",
       " '₹1.28 Crores₹13,500 per sq.ft.',\n",
       " '₹95 Lacs₹7,422 per sq.ft.',\n",
       " '₹4 Crores₹8,333 per sq.ft.',\n",
       " '₹50 Lacs₹5,128 per sq.ft.',\n",
       " '₹1.25 Crores₹9,259 per sq.ft.',\n",
       " '₹1.65 Crores₹10,030 per sq.ft.']"
      ]
     },
     "execution_count": 72,
     "metadata": {},
     "output_type": "execute_result"
    }
   ],
   "source": [
    "#Total price \n",
    "\n",
    "price =[]\n",
    "for i in nobroker_html.find_all('div',class_='flex flex-col w-33pe items-center bo tp:w-half po:w-full border-r-0'):\n",
    "    price.append(i.text)\n",
    "price\n"
   ]
  },
  {
   "cell_type": "code",
   "execution_count": 73,
   "id": "1475182f",
   "metadata": {},
   "outputs": [
    {
     "name": "stdout",
     "output_type": "stream",
     "text": [
      "25 25 25\n"
     ]
    }
   ],
   "source": [
    "print(len(name),len(location),len(price))\n"
   ]
  },
  {
   "cell_type": "code",
   "execution_count": 74,
   "id": "ab040516",
   "metadata": {},
   "outputs": [
    {
     "data": {
      "text/html": [
       "<div>\n",
       "<style scoped>\n",
       "    .dataframe tbody tr th:only-of-type {\n",
       "        vertical-align: middle;\n",
       "    }\n",
       "\n",
       "    .dataframe tbody tr th {\n",
       "        vertical-align: top;\n",
       "    }\n",
       "\n",
       "    .dataframe thead th {\n",
       "        text-align: right;\n",
       "    }\n",
       "</style>\n",
       "<table border=\"1\" class=\"dataframe\">\n",
       "  <thead>\n",
       "    <tr style=\"text-align: right;\">\n",
       "      <th></th>\n",
       "      <th>House_Title</th>\n",
       "      <th>Location</th>\n",
       "      <th>Area</th>\n",
       "      <th>EMI</th>\n",
       "      <th>Price</th>\n",
       "    </tr>\n",
       "  </thead>\n",
       "  <tbody>\n",
       "    <tr>\n",
       "      <th>0</th>\n",
       "      <td>3 BHK Apartment  For Sale  In Adarsh Court Apa...</td>\n",
       "      <td>Adarsh Court Apartment  Adarsh Court Apartment...</td>\n",
       "      <td>1,990 sqft</td>\n",
       "      <td>₹2.01 Lacs</td>\n",
       "      <td>₹3.5 Crores₹17,588 per sq.ft.</td>\n",
       "    </tr>\n",
       "    <tr>\n",
       "      <th>1</th>\n",
       "      <td>4+ BHK In Independent House  For Sale  In Jaya...</td>\n",
       "      <td>Independent House, 100ft Road, Ashoka Pillar R...</td>\n",
       "      <td>2,195 sqft</td>\n",
       "      <td>₹2.96 Lacs</td>\n",
       "      <td>₹5.16 Crores₹23,508 per sq.ft.</td>\n",
       "    </tr>\n",
       "    <tr>\n",
       "      <th>2</th>\n",
       "      <td>3 BHK Flat  For Sale  In Beverly Apartments In...</td>\n",
       "      <td>Road next to Manyavar showroom</td>\n",
       "      <td>1,780 sqft</td>\n",
       "      <td>₹85,971</td>\n",
       "      <td>₹1.5 Crores₹8,427 per sq.ft.</td>\n",
       "    </tr>\n",
       "    <tr>\n",
       "      <th>3</th>\n",
       "      <td>3 BHK Flat  For Sale  In Hal 2nd Stage,indiran...</td>\n",
       "      <td>Standalone building, 16th F main, Hal 2nd stag...</td>\n",
       "      <td>2,200 sqft</td>\n",
       "      <td>₹2.29 Lacs</td>\n",
       "      <td>₹4 Crores₹18,182 per sq.ft.</td>\n",
       "    </tr>\n",
       "    <tr>\n",
       "      <th>4</th>\n",
       "      <td>2 BHK Flat  For Sale  In Lakshmi Nivas Apartme...</td>\n",
       "      <td>behind Vishnupriya Towers,Mahakavi Kuvempu Roa...</td>\n",
       "      <td>1,255 sqft</td>\n",
       "      <td>₹56,741</td>\n",
       "      <td>₹99 Lacs₹7,888 per sq.ft.</td>\n",
       "    </tr>\n",
       "    <tr>\n",
       "      <th>5</th>\n",
       "      <td>2 BHK In Independent House  For Sale  In Jayan...</td>\n",
       "      <td>Independent House, Jayanagara 9th Block, near ...</td>\n",
       "      <td>925 sqft</td>\n",
       "      <td>₹1.15 Lacs</td>\n",
       "      <td>₹2 Crores₹21,622 per sq.ft.</td>\n",
       "    </tr>\n",
       "    <tr>\n",
       "      <th>6</th>\n",
       "      <td>3 BHK Flat  For Sale  In Shanti Park Apartment...</td>\n",
       "      <td>Shanti Park Apartments</td>\n",
       "      <td>1,420 sqft</td>\n",
       "      <td>₹71,643</td>\n",
       "      <td>₹1.25 Crores₹8,803 per sq.ft.</td>\n",
       "    </tr>\n",
       "    <tr>\n",
       "      <th>7</th>\n",
       "      <td>2 BHK Flat  For Sale  In Shree Enclave  In Jay...</td>\n",
       "      <td>jayanagar Near Mahalakshmi Temple/Rajalakshmi ...</td>\n",
       "      <td>1,200 sqft</td>\n",
       "      <td>₹74,508</td>\n",
       "      <td>₹1.3 Crores₹10,833 per sq.ft.</td>\n",
       "    </tr>\n",
       "    <tr>\n",
       "      <th>8</th>\n",
       "      <td>4 BHK Flat  For Sale  In Golfridge In Indira N...</td>\n",
       "      <td>embassy golf link road</td>\n",
       "      <td>2,750 sqft</td>\n",
       "      <td>₹1.63 Lacs</td>\n",
       "      <td>₹2.85 Crores₹10,364 per sq.ft.</td>\n",
       "    </tr>\n",
       "    <tr>\n",
       "      <th>9</th>\n",
       "      <td>4 BHK In Independent House  For Sale  In Jayan...</td>\n",
       "      <td>Independent House, 47th Cross Rd, 8th Block, 1...</td>\n",
       "      <td>3,700 sqft</td>\n",
       "      <td>₹6.02 Lacs</td>\n",
       "      <td>₹10.5 Crores₹28,378 per sq.ft.</td>\n",
       "    </tr>\n",
       "    <tr>\n",
       "      <th>10</th>\n",
       "      <td>2 BHK Apartment  For Sale  In Team Heritage Ap...</td>\n",
       "      <td>Team Heritage Apartments  Team Heritage Apartm...</td>\n",
       "      <td>1,100 sqft</td>\n",
       "      <td>₹51,583</td>\n",
       "      <td>₹90 Lacs₹8,182 per sq.ft.</td>\n",
       "    </tr>\n",
       "    <tr>\n",
       "      <th>11</th>\n",
       "      <td>4+ BHK In Independent House  For Sale  In Raja...</td>\n",
       "      <td>Independent House, 6th Cross Rd, 2nd Block  ne...</td>\n",
       "      <td>2,240 sqft</td>\n",
       "      <td>₹83,679</td>\n",
       "      <td>₹1.46 Crores₹6,518 per sq.ft.</td>\n",
       "    </tr>\n",
       "    <tr>\n",
       "      <th>12</th>\n",
       "      <td>3 BHK Flat  For Sale  In Total Environment Lif...</td>\n",
       "      <td>30th Cross Rd, 4th T Block , Jayanagar, Bengal...</td>\n",
       "      <td>2,628 sqft</td>\n",
       "      <td>₹1.72 Lacs</td>\n",
       "      <td>₹3 Crores₹11,416 per sq.ft.</td>\n",
       "    </tr>\n",
       "    <tr>\n",
       "      <th>13</th>\n",
       "      <td>4+ BHK Flat  For Sale  In Nagapura</td>\n",
       "      <td>Standalone Building, Bovipalya near Mahalakshm...</td>\n",
       "      <td>850 sqft</td>\n",
       "      <td>₹68,777</td>\n",
       "      <td>₹1.2 Crores₹14,118 per sq.ft.</td>\n",
       "    </tr>\n",
       "    <tr>\n",
       "      <th>14</th>\n",
       "      <td>3 BHK Apartment  For Sale  In Ashiana Gardens ...</td>\n",
       "      <td>Ashiana Gardens Apartments  4, Sri Rama Temple...</td>\n",
       "      <td>1,780 sqft</td>\n",
       "      <td>₹84,825</td>\n",
       "      <td>₹1.48 Crores₹8,315 per sq.ft.</td>\n",
       "    </tr>\n",
       "    <tr>\n",
       "      <th>15</th>\n",
       "      <td>3 BHK Flat  For Sale  In Mantri Gardens Apartm...</td>\n",
       "      <td>Mantri Gardens Apartment, Jayanagar 1st Block,...</td>\n",
       "      <td>1,485 sqft</td>\n",
       "      <td>₹85,971</td>\n",
       "      <td>₹1.5 Crores₹10,101 per sq.ft.</td>\n",
       "    </tr>\n",
       "    <tr>\n",
       "      <th>16</th>\n",
       "      <td>1 BHK Flat  For Sale  In Rajajinagar In Rajaji...</td>\n",
       "      <td>27th cross 2nd block rajajinagar,Behind Navran...</td>\n",
       "      <td>650 sqft</td>\n",
       "      <td>₹28,657</td>\n",
       "      <td>₹50 Lacs₹7,692 per sq.ft.</td>\n",
       "    </tr>\n",
       "    <tr>\n",
       "      <th>17</th>\n",
       "      <td>4+ BHK In Independent House  For Sale  In Raja...</td>\n",
       "      <td>Independent House, 72 Cross, 12th Main Rd, RPA...</td>\n",
       "      <td>1,350 sqft</td>\n",
       "      <td>₹1.96 Lacs</td>\n",
       "      <td>₹3.42 Crores₹25,324 per sq.ft.</td>\n",
       "    </tr>\n",
       "    <tr>\n",
       "      <th>18</th>\n",
       "      <td>3 BHK Flat  For Sale  In Vaishali Residency In...</td>\n",
       "      <td>Vaishali Residency, HAL 2nd Stage, Indiranagar...</td>\n",
       "      <td>1,300 sqft</td>\n",
       "      <td>₹65,911</td>\n",
       "      <td>₹1.15 Crores₹8,846 per sq.ft.</td>\n",
       "    </tr>\n",
       "    <tr>\n",
       "      <th>19</th>\n",
       "      <td>2 BHK In Independent House  For Sale  In Mariy...</td>\n",
       "      <td>Independent House, Ramamohanapuram Near  Masji...</td>\n",
       "      <td>950 sqft</td>\n",
       "      <td>₹73,505</td>\n",
       "      <td>₹1.28 Crores₹13,500 per sq.ft.</td>\n",
       "    </tr>\n",
       "    <tr>\n",
       "      <th>20</th>\n",
       "      <td>2 BHK Flat  For Sale  In Shanthipark Apartment...</td>\n",
       "      <td>Opposite to Croma showroom</td>\n",
       "      <td>1,280 sqft</td>\n",
       "      <td>₹54,448</td>\n",
       "      <td>₹95 Lacs₹7,422 per sq.ft.</td>\n",
       "    </tr>\n",
       "    <tr>\n",
       "      <th>21</th>\n",
       "      <td>4+ BHK Flat  For Sale  In Indiranagar</td>\n",
       "      <td>Standalone Building, HAL 2nd Stage near New Ho...</td>\n",
       "      <td>4,800 sqft</td>\n",
       "      <td>₹2.29 Lacs</td>\n",
       "      <td>₹4 Crores₹8,333 per sq.ft.</td>\n",
       "    </tr>\n",
       "    <tr>\n",
       "      <th>22</th>\n",
       "      <td>4 BHK In Independent House  For Sale  In Rajaj...</td>\n",
       "      <td>Independent House, 4th Cross Rd M.R Palya, Mar...</td>\n",
       "      <td>975 sqft</td>\n",
       "      <td>₹28,657</td>\n",
       "      <td>₹50 Lacs₹5,128 per sq.ft.</td>\n",
       "    </tr>\n",
       "    <tr>\n",
       "      <th>23</th>\n",
       "      <td>4+ BHK In Independent House  For Sale  In Raja...</td>\n",
       "      <td>Independent House, 10th Main Rd,Near Trident H...</td>\n",
       "      <td>1,350 sqft</td>\n",
       "      <td>₹71,643</td>\n",
       "      <td>₹1.25 Crores₹9,259 per sq.ft.</td>\n",
       "    </tr>\n",
       "    <tr>\n",
       "      <th>24</th>\n",
       "      <td>3 BHK Flat  For Sale  In Raj Kamal Apartments ...</td>\n",
       "      <td>Near Ragigudda Temple</td>\n",
       "      <td>1,645 sqft</td>\n",
       "      <td>₹94,568</td>\n",
       "      <td>₹1.65 Crores₹10,030 per sq.ft.</td>\n",
       "    </tr>\n",
       "  </tbody>\n",
       "</table>\n",
       "</div>"
      ],
      "text/plain": [
       "                                          House_Title  \\\n",
       "0   3 BHK Apartment  For Sale  In Adarsh Court Apa...   \n",
       "1   4+ BHK In Independent House  For Sale  In Jaya...   \n",
       "2   3 BHK Flat  For Sale  In Beverly Apartments In...   \n",
       "3   3 BHK Flat  For Sale  In Hal 2nd Stage,indiran...   \n",
       "4   2 BHK Flat  For Sale  In Lakshmi Nivas Apartme...   \n",
       "5   2 BHK In Independent House  For Sale  In Jayan...   \n",
       "6   3 BHK Flat  For Sale  In Shanti Park Apartment...   \n",
       "7   2 BHK Flat  For Sale  In Shree Enclave  In Jay...   \n",
       "8   4 BHK Flat  For Sale  In Golfridge In Indira N...   \n",
       "9   4 BHK In Independent House  For Sale  In Jayan...   \n",
       "10  2 BHK Apartment  For Sale  In Team Heritage Ap...   \n",
       "11  4+ BHK In Independent House  For Sale  In Raja...   \n",
       "12  3 BHK Flat  For Sale  In Total Environment Lif...   \n",
       "13                 4+ BHK Flat  For Sale  In Nagapura   \n",
       "14  3 BHK Apartment  For Sale  In Ashiana Gardens ...   \n",
       "15  3 BHK Flat  For Sale  In Mantri Gardens Apartm...   \n",
       "16  1 BHK Flat  For Sale  In Rajajinagar In Rajaji...   \n",
       "17  4+ BHK In Independent House  For Sale  In Raja...   \n",
       "18  3 BHK Flat  For Sale  In Vaishali Residency In...   \n",
       "19  2 BHK In Independent House  For Sale  In Mariy...   \n",
       "20  2 BHK Flat  For Sale  In Shanthipark Apartment...   \n",
       "21              4+ BHK Flat  For Sale  In Indiranagar   \n",
       "22  4 BHK In Independent House  For Sale  In Rajaj...   \n",
       "23  4+ BHK In Independent House  For Sale  In Raja...   \n",
       "24  3 BHK Flat  For Sale  In Raj Kamal Apartments ...   \n",
       "\n",
       "                                             Location        Area         EMI  \\\n",
       "0   Adarsh Court Apartment  Adarsh Court Apartment...  1,990 sqft  ₹2.01 Lacs   \n",
       "1   Independent House, 100ft Road, Ashoka Pillar R...  2,195 sqft  ₹2.96 Lacs   \n",
       "2                      Road next to Manyavar showroom  1,780 sqft     ₹85,971   \n",
       "3   Standalone building, 16th F main, Hal 2nd stag...  2,200 sqft  ₹2.29 Lacs   \n",
       "4   behind Vishnupriya Towers,Mahakavi Kuvempu Roa...  1,255 sqft     ₹56,741   \n",
       "5   Independent House, Jayanagara 9th Block, near ...    925 sqft  ₹1.15 Lacs   \n",
       "6                              Shanti Park Apartments  1,420 sqft     ₹71,643   \n",
       "7   jayanagar Near Mahalakshmi Temple/Rajalakshmi ...  1,200 sqft     ₹74,508   \n",
       "8                              embassy golf link road  2,750 sqft  ₹1.63 Lacs   \n",
       "9   Independent House, 47th Cross Rd, 8th Block, 1...  3,700 sqft  ₹6.02 Lacs   \n",
       "10  Team Heritage Apartments  Team Heritage Apartm...  1,100 sqft     ₹51,583   \n",
       "11  Independent House, 6th Cross Rd, 2nd Block  ne...  2,240 sqft     ₹83,679   \n",
       "12  30th Cross Rd, 4th T Block , Jayanagar, Bengal...  2,628 sqft  ₹1.72 Lacs   \n",
       "13  Standalone Building, Bovipalya near Mahalakshm...    850 sqft     ₹68,777   \n",
       "14  Ashiana Gardens Apartments  4, Sri Rama Temple...  1,780 sqft     ₹84,825   \n",
       "15  Mantri Gardens Apartment, Jayanagar 1st Block,...  1,485 sqft     ₹85,971   \n",
       "16  27th cross 2nd block rajajinagar,Behind Navran...    650 sqft     ₹28,657   \n",
       "17  Independent House, 72 Cross, 12th Main Rd, RPA...  1,350 sqft  ₹1.96 Lacs   \n",
       "18  Vaishali Residency, HAL 2nd Stage, Indiranagar...  1,300 sqft     ₹65,911   \n",
       "19  Independent House, Ramamohanapuram Near  Masji...    950 sqft     ₹73,505   \n",
       "20                         Opposite to Croma showroom  1,280 sqft     ₹54,448   \n",
       "21  Standalone Building, HAL 2nd Stage near New Ho...  4,800 sqft  ₹2.29 Lacs   \n",
       "22  Independent House, 4th Cross Rd M.R Palya, Mar...    975 sqft     ₹28,657   \n",
       "23  Independent House, 10th Main Rd,Near Trident H...  1,350 sqft     ₹71,643   \n",
       "24                             Near Ragigudda Temple   1,645 sqft     ₹94,568   \n",
       "\n",
       "                             Price  \n",
       "0    ₹3.5 Crores₹17,588 per sq.ft.  \n",
       "1   ₹5.16 Crores₹23,508 per sq.ft.  \n",
       "2     ₹1.5 Crores₹8,427 per sq.ft.  \n",
       "3      ₹4 Crores₹18,182 per sq.ft.  \n",
       "4        ₹99 Lacs₹7,888 per sq.ft.  \n",
       "5      ₹2 Crores₹21,622 per sq.ft.  \n",
       "6    ₹1.25 Crores₹8,803 per sq.ft.  \n",
       "7    ₹1.3 Crores₹10,833 per sq.ft.  \n",
       "8   ₹2.85 Crores₹10,364 per sq.ft.  \n",
       "9   ₹10.5 Crores₹28,378 per sq.ft.  \n",
       "10       ₹90 Lacs₹8,182 per sq.ft.  \n",
       "11   ₹1.46 Crores₹6,518 per sq.ft.  \n",
       "12     ₹3 Crores₹11,416 per sq.ft.  \n",
       "13   ₹1.2 Crores₹14,118 per sq.ft.  \n",
       "14   ₹1.48 Crores₹8,315 per sq.ft.  \n",
       "15   ₹1.5 Crores₹10,101 per sq.ft.  \n",
       "16       ₹50 Lacs₹7,692 per sq.ft.  \n",
       "17  ₹3.42 Crores₹25,324 per sq.ft.  \n",
       "18   ₹1.15 Crores₹8,846 per sq.ft.  \n",
       "19  ₹1.28 Crores₹13,500 per sq.ft.  \n",
       "20       ₹95 Lacs₹7,422 per sq.ft.  \n",
       "21      ₹4 Crores₹8,333 per sq.ft.  \n",
       "22       ₹50 Lacs₹5,128 per sq.ft.  \n",
       "23   ₹1.25 Crores₹9,259 per sq.ft.  \n",
       "24  ₹1.65 Crores₹10,030 per sq.ft.  "
      ]
     },
     "execution_count": 74,
     "metadata": {},
     "output_type": "execute_result"
    }
   ],
   "source": [
    "#Resultant DataFrame\n",
    "\n",
    "data = pd.DataFrame({'House_Title':name,'Location':location,'Area':area,'EMI':emi,'Price':price})\n",
    "data"
   ]
  },
  {
   "cell_type": "markdown",
   "id": "97098024",
   "metadata": {},
   "source": [
    "# 9.Write a python program to scrape mentioned details from dineout.co.in"
   ]
  },
  {
   "cell_type": "code",
   "execution_count": 75,
   "id": "9a4bca19",
   "metadata": {},
   "outputs": [
    {
     "data": {
      "text/plain": [
       "<Response [200]>"
      ]
     },
     "execution_count": 75,
     "metadata": {},
     "output_type": "execute_result"
    }
   ],
   "source": [
    "# Request for access\n",
    "\n",
    "dineout = requests.get('https://www.dineout.co.in/delhi-restaurants?loc=Delhi')\n",
    "dineout\n"
   ]
  },
  {
   "cell_type": "code",
   "execution_count": 76,
   "id": "b39d8910",
   "metadata": {},
   "outputs": [],
   "source": [
    "#loading HTML content\n",
    "\n",
    "dineout_html = BeautifulSoup(dineout.content,'html.parser')\n"
   ]
  },
  {
   "cell_type": "code",
   "execution_count": 77,
   "id": "ada24139",
   "metadata": {},
   "outputs": [
    {
     "data": {
      "text/plain": [
       "['Local',\n",
       " 'Tamasha',\n",
       " 'The G.T. ROAD',\n",
       " 'Out Of The Box Courtyard',\n",
       " 'Ministry Of Beer',\n",
       " 'The Junkyard Cafe',\n",
       " 'Unplugged Courtyard',\n",
       " 'Connaught Clubhouse Microbrewery',\n",
       " 'Barbeque Nation',\n",
       " 'QBA',\n",
       " \"Chili's American Grill and Bar\",\n",
       " '38 Barracks',\n",
       " 'Farzi Cafe',\n",
       " 'Sandoz',\n",
       " 'Dasaprakash',\n",
       " 'My Bar Square',\n",
       " 'Station Bar',\n",
       " 'Ardor 2.1 Restaurant and Lounge',\n",
       " 'Wok in the Clouds',\n",
       " 'Padmanabham',\n",
       " 'Warehouse Cafe']"
      ]
     },
     "execution_count": 77,
     "metadata": {},
     "output_type": "execute_result"
    }
   ],
   "source": [
    "# Restuarent Name\n",
    "\n",
    "name =[]\n",
    "for i in dineout_html.find_all('div',class_='restnt-info cursor'):\n",
    "    name.append(i.a.text)\n",
    "name\n"
   ]
  },
  {
   "cell_type": "code",
   "execution_count": 78,
   "id": "af5dd936",
   "metadata": {},
   "outputs": [
    {
     "data": {
      "text/plain": [
       "['  North Indian, Asian, Italian, Middle Eastern, Tex Mex',\n",
       " '  Continental, Finger Food, Asian, Italian, North Indian1 offer available',\n",
       " '  North Indian6 offers available',\n",
       " '  North Indian, Oriental , American, Chinese, Continental, Fast Food, Italian, Pizza',\n",
       " '  Finger Food, North Indian, Italian, Continental, Asian, Oriental , Fusion',\n",
       " '  North Indian, Mediterranean, Asian, Italian, Oriental ',\n",
       " '  North Indian, Continental',\n",
       " '  Asian, Italian, Mexican1 deal and 2 offers available',\n",
       " '  North Indian, Barbecue, Mughlai1 deal and 7 offers available',\n",
       " '  North Indian, Oriental , Continental, Italian',\n",
       " '  Mexican, American, Tex Mex, Tex Mex1 offer available',\n",
       " '  North Indian, Italian, Chinese, Continental1 offer available',\n",
       " '  Modern Indian, Continental, Finger Food',\n",
       " '  North Indian, Chinese, Mughlai2 offers available',\n",
       " '  South Indian, Continental, North Indian, Oriental ',\n",
       " '  Finger Food, Chinese, Continental, Italian',\n",
       " '  Continental, Mediterranean, Italian, North Indian, Oriental ',\n",
       " '  Multi-Cuisine, Chinese, Continental, Italian, North Indian, Seafood1 offer available',\n",
       " '  Asian, Chinese, Thai, Continental, North Indian',\n",
       " 'South Indian, North Indian, Street Food',\n",
       " '  Fusion, North Indian, Chinese, Italian2 offers available']"
      ]
     },
     "execution_count": 78,
     "metadata": {},
     "output_type": "execute_result"
    }
   ],
   "source": [
    "# Cuisine Name\n",
    "\n",
    "cuisine = []\n",
    "for i in dineout_html.find_all('div',class_='detail-info'):\n",
    "    cuisine.append(i.text.replace('|',''))\n",
    "cuisine\n",
    "\n",
    "cuisine_na = []\n",
    "for i in cuisine:\n",
    "    cuisine_na.append(i[22:])\n",
    "\n",
    "cuisine_na"
   ]
  },
  {
   "cell_type": "code",
   "execution_count": 79,
   "id": "03391b9a",
   "metadata": {},
   "outputs": [
    {
     "data": {
      "text/plain": [
       "['Scindia House,Connaught Place, Central Delhi',\n",
       " 'Connaught Place, Central Delhi',\n",
       " 'M-Block,Connaught Place, Central Delhi',\n",
       " 'Connaught Place, Central Delhi',\n",
       " 'M-Block,Connaught Place, Central Delhi',\n",
       " 'Connaught Place, Central Delhi',\n",
       " 'Connaught Place, Central Delhi',\n",
       " 'Janpath, Central Delhi',\n",
       " 'Connaught Place, Central Delhi',\n",
       " 'Connaught Place, Central Delhi',\n",
       " 'M-Block,Connaught Place, Central Delhi',\n",
       " 'M-Block,Connaught Place, Central Delhi',\n",
       " 'Connaught Place, Central Delhi',\n",
       " 'Connaught Place, Central Delhi',\n",
       " 'Connaught Place, Central Delhi',\n",
       " 'Connaught Place, Central Delhi',\n",
       " 'F-Block,Connaught Place, Central Delhi',\n",
       " 'Connaught Place, Central Delhi',\n",
       " 'Connaught Place, Central Delhi',\n",
       " 'Janpath, Central Delhi',\n",
       " 'Connaught Place, Central Delhi']"
      ]
     },
     "execution_count": 79,
     "metadata": {},
     "output_type": "execute_result"
    }
   ],
   "source": [
    "#location\n",
    "\n",
    "location =[]\n",
    "for i in dineout_html.find_all('div',class_='restnt-loc ellipsis'):\n",
    "    location.append(i.text)\n",
    "location"
   ]
  },
  {
   "cell_type": "code",
   "execution_count": 80,
   "id": "463046d6",
   "metadata": {},
   "outputs": [
    {
     "data": {
      "text/plain": [
       "['4',\n",
       " '4.2',\n",
       " '4.3',\n",
       " '4.1',\n",
       " '4',\n",
       " '4.1',\n",
       " '4',\n",
       " '4.1',\n",
       " '4.4',\n",
       " '4.3',\n",
       " '4.4',\n",
       " '4.3',\n",
       " '4.2',\n",
       " '4',\n",
       " '4.2',\n",
       " '3.8',\n",
       " '4.1',\n",
       " '3.9',\n",
       " '4.3',\n",
       " '4.2',\n",
       " '4.1']"
      ]
     },
     "execution_count": 80,
     "metadata": {},
     "output_type": "execute_result"
    }
   ],
   "source": [
    "# Rating\n",
    "\n",
    "rating =[]\n",
    "for i in dineout_html.find_all('div',class_='restnt-rating rating-4'):\n",
    "    rating.append(i.text)\n",
    "rating"
   ]
  },
  {
   "cell_type": "code",
   "execution_count": 81,
   "id": "75e3a798",
   "metadata": {},
   "outputs": [
    {
     "name": "stdout",
     "output_type": "stream",
     "text": [
      "21\n"
     ]
    }
   ],
   "source": [
    "print(len(rating))"
   ]
  },
  {
   "cell_type": "code",
   "execution_count": 82,
   "id": "485fe7b6",
   "metadata": {},
   "outputs": [
    {
     "data": {
      "text/plain": [
       "['https://im1.dineout.co.in/images/uploads/restaurant/sharpen/2/b/t/p27452-15020105505986dcb6d147f.jpg?tr=tr:n-medium',\n",
       " 'https://im1.dineout.co.in/images/uploads/restaurant/sharpen/2/a/j/p20996-145631488756cd9a0796608.jpg?tr=tr:n-medium',\n",
       " 'https://im1.dineout.co.in/images/uploads/restaurant/sharpen/3/m/u/p31393-15972091555f337a43bb961.jpg?tr=tr:n-medium',\n",
       " 'https://im1.dineout.co.in/images/uploads/restaurant/sharpen/8/x/t/p83921-16017104805f782990b9b0c.jpg?tr=tr:n-medium',\n",
       " 'https://im1.dineout.co.in/images/uploads/restaurant/sharpen/3/a/d/p32381-1495943585592a49a166fe7.jpg?tr=tr:n-medium',\n",
       " 'https://im1.dineout.co.in/images/uploads/restaurant/sharpen/2/e/p/p20298-1484731590587f34c63a2a1.jpg?tr=tr:n-medium',\n",
       " 'https://im1.dineout.co.in/images/uploads/restaurant/sharpen/2/u/y/p20941-15700828565d959028e9f28.jpg?tr=tr:n-medium',\n",
       " 'https://im1.dineout.co.in/images/uploads/restaurant/sharpen/7/c/z/p77626-15833232035e5f98437554f.jpg?tr=tr:n-medium',\n",
       " 'https://im1.dineout.co.in/images/uploads/restaurant/sharpen/5/h/a/p532-15773519235e047af31a57e.jpg?tr=tr:n-medium',\n",
       " 'https://im1.dineout.co.in/images/uploads/restaurant/sharpen/2/e/e/p29906-16183962346076c44ac433d.jpg?tr=tr:n-medium',\n",
       " 'https://im1.dineout.co.in/images/uploads/restaurant/sharpen/3/t/b/p31397-164157704361d87a53aa8ef.jpg?tr=tr:n-medium',\n",
       " 'https://im1.dineout.co.in/images/uploads/restaurant/sharpen/2/y/q/p21171-1631359509613c92152f775.jpg?tr=tr:n-medium',\n",
       " 'https://im1.dineout.co.in/images/uploads/restaurant/sharpen/2/s/p/p20854-164157892261d881aa3e80b.jpg?tr=tr:n-medium',\n",
       " 'https://im1.dineout.co.in/images/uploads/restaurant/sharpen/8/e/u/p80493-16064603115fc0a397716de.jpg?tr=tr:n-medium',\n",
       " 'https://im1.dineout.co.in/images/uploads/restaurant/sharpen/9/x/t/p98423-1634644819616eb353a1181.jpg?tr=tr:n-medium',\n",
       " 'https://im1.dineout.co.in/images/uploads/restaurant/sharpen/1/m/i/p12709-15681189525d7798a8c5aa5.jpg?tr=tr:n-medium',\n",
       " 'https://im1.dineout.co.in/images/uploads/restaurant/sharpen/9/d/t/p971-15465830125c2efbe4260ab.jpg?tr=tr:n-medium',\n",
       " 'https://im1.dineout.co.in/images/uploads/restaurant/sharpen/2/a/s/p221-15968682845f2e46bc185f1.jpg?tr=tr:n-medium',\n",
       " 'https://im1.dineout.co.in/images/uploads/restaurant/sharpen/2/f/s/p2669-1499666296596317787f36d.jpg?tr=tr:n-medium',\n",
       " 'https://im1.dineout.co.in/images/uploads/restaurant/sharpen/7/t/r/p76678-15980881015f40e3a588f73.jpg?tr=tr:n-medium',\n",
       " 'https://im1.dineout.co.in/images/uploads/restaurant/sharpen/4/h/o/p420-15241335515ad86eaf373ce.jpg?tr=tr:n-medium']"
      ]
     },
     "execution_count": 82,
     "metadata": {},
     "output_type": "execute_result"
    }
   ],
   "source": [
    "# image URL\n",
    "\n",
    "image = []\n",
    "for i in dineout_html.find_all('img',class_='no-img'):\n",
    "    image.append(i['data-src'])\n",
    "image"
   ]
  },
  {
   "cell_type": "code",
   "execution_count": 83,
   "id": "abb7e22a",
   "metadata": {},
   "outputs": [
    {
     "data": {
      "text/html": [
       "<div>\n",
       "<style scoped>\n",
       "    .dataframe tbody tr th:only-of-type {\n",
       "        vertical-align: middle;\n",
       "    }\n",
       "\n",
       "    .dataframe tbody tr th {\n",
       "        vertical-align: top;\n",
       "    }\n",
       "\n",
       "    .dataframe thead th {\n",
       "        text-align: right;\n",
       "    }\n",
       "</style>\n",
       "<table border=\"1\" class=\"dataframe\">\n",
       "  <thead>\n",
       "    <tr style=\"text-align: right;\">\n",
       "      <th></th>\n",
       "      <th>Restuarant_name</th>\n",
       "      <th>Cuisine</th>\n",
       "      <th>Location</th>\n",
       "      <th>Rating</th>\n",
       "      <th>Image_URL</th>\n",
       "    </tr>\n",
       "  </thead>\n",
       "  <tbody>\n",
       "    <tr>\n",
       "      <th>0</th>\n",
       "      <td>Local</td>\n",
       "      <td>North Indian, Asian, Italian, Middle Eastern...</td>\n",
       "      <td>Scindia House,Connaught Place, Central Delhi</td>\n",
       "      <td>4</td>\n",
       "      <td>https://im1.dineout.co.in/images/uploads/resta...</td>\n",
       "    </tr>\n",
       "    <tr>\n",
       "      <th>1</th>\n",
       "      <td>Tamasha</td>\n",
       "      <td>Continental, Finger Food, Asian, Italian, No...</td>\n",
       "      <td>Connaught Place, Central Delhi</td>\n",
       "      <td>4.2</td>\n",
       "      <td>https://im1.dineout.co.in/images/uploads/resta...</td>\n",
       "    </tr>\n",
       "    <tr>\n",
       "      <th>2</th>\n",
       "      <td>The G.T. ROAD</td>\n",
       "      <td>North Indian6 offers available</td>\n",
       "      <td>M-Block,Connaught Place, Central Delhi</td>\n",
       "      <td>4.3</td>\n",
       "      <td>https://im1.dineout.co.in/images/uploads/resta...</td>\n",
       "    </tr>\n",
       "    <tr>\n",
       "      <th>3</th>\n",
       "      <td>Out Of The Box Courtyard</td>\n",
       "      <td>North Indian, Oriental , American, Chinese, ...</td>\n",
       "      <td>Connaught Place, Central Delhi</td>\n",
       "      <td>4.1</td>\n",
       "      <td>https://im1.dineout.co.in/images/uploads/resta...</td>\n",
       "    </tr>\n",
       "    <tr>\n",
       "      <th>4</th>\n",
       "      <td>Ministry Of Beer</td>\n",
       "      <td>Finger Food, North Indian, Italian, Continen...</td>\n",
       "      <td>M-Block,Connaught Place, Central Delhi</td>\n",
       "      <td>4</td>\n",
       "      <td>https://im1.dineout.co.in/images/uploads/resta...</td>\n",
       "    </tr>\n",
       "  </tbody>\n",
       "</table>\n",
       "</div>"
      ],
      "text/plain": [
       "            Restuarant_name  \\\n",
       "0                     Local   \n",
       "1                   Tamasha   \n",
       "2             The G.T. ROAD   \n",
       "3  Out Of The Box Courtyard   \n",
       "4          Ministry Of Beer   \n",
       "\n",
       "                                             Cuisine  \\\n",
       "0    North Indian, Asian, Italian, Middle Eastern...   \n",
       "1    Continental, Finger Food, Asian, Italian, No...   \n",
       "2                     North Indian6 offers available   \n",
       "3    North Indian, Oriental , American, Chinese, ...   \n",
       "4    Finger Food, North Indian, Italian, Continen...   \n",
       "\n",
       "                                       Location Rating  \\\n",
       "0  Scindia House,Connaught Place, Central Delhi      4   \n",
       "1                Connaught Place, Central Delhi    4.2   \n",
       "2        M-Block,Connaught Place, Central Delhi    4.3   \n",
       "3                Connaught Place, Central Delhi    4.1   \n",
       "4        M-Block,Connaught Place, Central Delhi      4   \n",
       "\n",
       "                                           Image_URL  \n",
       "0  https://im1.dineout.co.in/images/uploads/resta...  \n",
       "1  https://im1.dineout.co.in/images/uploads/resta...  \n",
       "2  https://im1.dineout.co.in/images/uploads/resta...  \n",
       "3  https://im1.dineout.co.in/images/uploads/resta...  \n",
       "4  https://im1.dineout.co.in/images/uploads/resta...  "
      ]
     },
     "execution_count": 83,
     "metadata": {},
     "output_type": "execute_result"
    }
   ],
   "source": [
    "#Data Frame\n",
    "\n",
    "data=pd.DataFrame({'Restuarant_name':name,'Cuisine':cuisine_na,'Location':location,'Rating':rating,'Image_URL':image})\n",
    "data.head()"
   ]
  },
  {
   "cell_type": "markdown",
   "id": "509bd91e",
   "metadata": {},
   "source": [
    "# 10.Write a python program to scrape first 10 product details which include product name,price,image URL from http://www.bewakoof.com/women-tshirts?ga_q=tshirts."
   ]
  },
  {
   "cell_type": "code",
   "execution_count": 84,
   "id": "43ce9ca4",
   "metadata": {},
   "outputs": [
    {
     "data": {
      "text/plain": [
       "<Response [200]>"
      ]
     },
     "execution_count": 84,
     "metadata": {},
     "output_type": "execute_result"
    }
   ],
   "source": [
    "# Request for access\n",
    "\n",
    "page = requests.get('https://www.bewakoof.com/women-tshirts?ga_q=tshirts')\n",
    "page"
   ]
  },
  {
   "cell_type": "code",
   "execution_count": 85,
   "id": "be391398",
   "metadata": {},
   "outputs": [],
   "source": [
    "# HTML content\n",
    "\n",
    "page_html = BeautifulSoup(page.content,'html.parser')\n"
   ]
  },
  {
   "cell_type": "code",
   "execution_count": 86,
   "id": "13773080",
   "metadata": {},
   "outputs": [
    {
     "data": {
      "text/plain": [
       "['Be A Rainbow Boyfriend T-Shirt',\n",
       " 'Nenu Chepta Nuvvu Half Sleeve T-Shirt',\n",
       " 'Shanti Minimal Half Sleeve T-Shirt',\n",
       " 'Nenu Chepta Nuvvu Half Sleeve T-Shirt',\n",
       " 'No Guts Glory Boyfriend T-Shirt Black',\n",
       " 'Life Is Good Half Sleeve T-Shirt',\n",
       " 'Life Is Good Half Sleeve T-Shirt',\n",
       " 'Beach Blue Half Sleeve T-Shirt',\n",
       " 'Butta Bomma Half Sleeve T-Shirt',\n",
       " 'Nenu Chepta Nuvvu Half Sleeve T-Shirt']"
      ]
     },
     "execution_count": 86,
     "metadata": {},
     "output_type": "execute_result"
    }
   ],
   "source": [
    "#product_name \n",
    "\n",
    "name = [] \n",
    "\n",
    "for i in page_html.find_all('div',class_=\"productCardDetail\"): \n",
    "\n",
    "    name.append(i.h3.text)\n",
    "name"
   ]
  },
  {
   "cell_type": "code",
   "execution_count": 87,
   "id": "4abc726b",
   "metadata": {},
   "outputs": [
    {
     "data": {
      "text/plain": [
       "['₹ 399',\n",
       " '₹ 349',\n",
       " '₹ 349',\n",
       " '₹ 349',\n",
       " '₹ 399',\n",
       " '₹ 349',\n",
       " '₹ 349',\n",
       " '₹ 249',\n",
       " '₹ 349',\n",
       " '₹ 349']"
      ]
     },
     "execution_count": 87,
     "metadata": {},
     "output_type": "execute_result"
    }
   ],
   "source": [
    "# Price of the product\n",
    "\n",
    "price = []\n",
    "for i in page_html.find_all('div',class_='productPriceBox clearfix'):\n",
    "    price.append(i.span.text)\n",
    "price"
   ]
  },
  {
   "cell_type": "code",
   "execution_count": 88,
   "id": "28ae16a3",
   "metadata": {},
   "outputs": [
    {
     "data": {
      "text/plain": [
       "['https://images.bewakoof.com/t320/be-a-rainbow-boyfriend-t-shirt-women-s-printed-boyfriend-t-shirts-271543-1581596152.jpg',\n",
       " 'https://images.bewakoof.com/t320/nenu-chepta-nuvvu-half-sleeve-t-shirt-women-s-half-sleeve-printed-t-shirt-300925-1608010636.jpg',\n",
       " 'https://images.bewakoof.com/t320/shanti-minimal-half-sleeve-t-shirt-women-s-half-sleeve-printed-t-shirt-300930-1608011319.jpg',\n",
       " 'https://images.bewakoof.com/t320/nenu-chepta-nuvvu-half-sleeve-t-shirt-women-s-half-sleeve-printed-t-shirt-300939-1608010650.jpg',\n",
       " 'https://images.bewakoof.com/t320/no-guts-glory-boyfriend-t-shirts-black-women-s-printed-boyfriend-t-shirts-293214-1603082689.jpg',\n",
       " 'https://images.bewakoof.com/t320/life-is-good-half-sleeve-t-shirts-women-s-half-sleeve-printed-t-shirt-313953-1610098757.jpg',\n",
       " 'https://images.bewakoof.com/t320/life-is-good-half-sleeve-t-shirts-women-s-half-sleeve-printed-t-shirt-313950-1610094603.jpg',\n",
       " 'https://images.bewakoof.com/t320/aqua-sky-half-sleeve-t-shirt-women-s-plain-half-sleeves-t-shirt-329413-1614350444.jpg',\n",
       " 'https://images.bewakoof.com/t320/butta-bomma-half-sleeve-t-shirt-women-s-half-sleeve-printed-t-shirt-300922-1608009783.jpg',\n",
       " 'https://images.bewakoof.com/t320/nenu-chepta-nuvvu-half-sleeve-t-shirt-women-s-half-sleeve-printed-t-shirt-300900-1608010589.jpg']"
      ]
     },
     "execution_count": 88,
     "metadata": {},
     "output_type": "execute_result"
    }
   ],
   "source": [
    "#image URL\n",
    "\n",
    "image =[]\n",
    "for i in page_html.find_all('img',class_='productImgTag'):\n",
    "    image.append(i['src'])\n",
    "image"
   ]
  },
  {
   "cell_type": "code",
   "execution_count": 89,
   "id": "0ec19143",
   "metadata": {},
   "outputs": [
    {
     "name": "stdout",
     "output_type": "stream",
     "text": [
      "10 10 10\n"
     ]
    }
   ],
   "source": [
    "print(len(name),len(price),len(image))"
   ]
  },
  {
   "cell_type": "code",
   "execution_count": 90,
   "id": "ec051756",
   "metadata": {},
   "outputs": [
    {
     "data": {
      "text/html": [
       "<div>\n",
       "<style scoped>\n",
       "    .dataframe tbody tr th:only-of-type {\n",
       "        vertical-align: middle;\n",
       "    }\n",
       "\n",
       "    .dataframe tbody tr th {\n",
       "        vertical-align: top;\n",
       "    }\n",
       "\n",
       "    .dataframe thead th {\n",
       "        text-align: right;\n",
       "    }\n",
       "</style>\n",
       "<table border=\"1\" class=\"dataframe\">\n",
       "  <thead>\n",
       "    <tr style=\"text-align: right;\">\n",
       "      <th></th>\n",
       "      <th>Product_name</th>\n",
       "      <th>Price</th>\n",
       "      <th>Image_URL</th>\n",
       "    </tr>\n",
       "  </thead>\n",
       "  <tbody>\n",
       "    <tr>\n",
       "      <th>0</th>\n",
       "      <td>Be A Rainbow Boyfriend T-Shirt</td>\n",
       "      <td>₹ 399</td>\n",
       "      <td>https://images.bewakoof.com/t320/be-a-rainbow-...</td>\n",
       "    </tr>\n",
       "    <tr>\n",
       "      <th>1</th>\n",
       "      <td>Nenu Chepta Nuvvu Half Sleeve T-Shirt</td>\n",
       "      <td>₹ 349</td>\n",
       "      <td>https://images.bewakoof.com/t320/nenu-chepta-n...</td>\n",
       "    </tr>\n",
       "    <tr>\n",
       "      <th>2</th>\n",
       "      <td>Shanti Minimal Half Sleeve T-Shirt</td>\n",
       "      <td>₹ 349</td>\n",
       "      <td>https://images.bewakoof.com/t320/shanti-minima...</td>\n",
       "    </tr>\n",
       "    <tr>\n",
       "      <th>3</th>\n",
       "      <td>Nenu Chepta Nuvvu Half Sleeve T-Shirt</td>\n",
       "      <td>₹ 349</td>\n",
       "      <td>https://images.bewakoof.com/t320/nenu-chepta-n...</td>\n",
       "    </tr>\n",
       "    <tr>\n",
       "      <th>4</th>\n",
       "      <td>No Guts Glory Boyfriend T-Shirt Black</td>\n",
       "      <td>₹ 399</td>\n",
       "      <td>https://images.bewakoof.com/t320/no-guts-glory...</td>\n",
       "    </tr>\n",
       "    <tr>\n",
       "      <th>5</th>\n",
       "      <td>Life Is Good Half Sleeve T-Shirt</td>\n",
       "      <td>₹ 349</td>\n",
       "      <td>https://images.bewakoof.com/t320/life-is-good-...</td>\n",
       "    </tr>\n",
       "    <tr>\n",
       "      <th>6</th>\n",
       "      <td>Life Is Good Half Sleeve T-Shirt</td>\n",
       "      <td>₹ 349</td>\n",
       "      <td>https://images.bewakoof.com/t320/life-is-good-...</td>\n",
       "    </tr>\n",
       "    <tr>\n",
       "      <th>7</th>\n",
       "      <td>Beach Blue Half Sleeve T-Shirt</td>\n",
       "      <td>₹ 249</td>\n",
       "      <td>https://images.bewakoof.com/t320/aqua-sky-half...</td>\n",
       "    </tr>\n",
       "    <tr>\n",
       "      <th>8</th>\n",
       "      <td>Butta Bomma Half Sleeve T-Shirt</td>\n",
       "      <td>₹ 349</td>\n",
       "      <td>https://images.bewakoof.com/t320/butta-bomma-h...</td>\n",
       "    </tr>\n",
       "    <tr>\n",
       "      <th>9</th>\n",
       "      <td>Nenu Chepta Nuvvu Half Sleeve T-Shirt</td>\n",
       "      <td>₹ 349</td>\n",
       "      <td>https://images.bewakoof.com/t320/nenu-chepta-n...</td>\n",
       "    </tr>\n",
       "  </tbody>\n",
       "</table>\n",
       "</div>"
      ],
      "text/plain": [
       "                            Product_name  Price  \\\n",
       "0         Be A Rainbow Boyfriend T-Shirt  ₹ 399   \n",
       "1  Nenu Chepta Nuvvu Half Sleeve T-Shirt  ₹ 349   \n",
       "2     Shanti Minimal Half Sleeve T-Shirt  ₹ 349   \n",
       "3  Nenu Chepta Nuvvu Half Sleeve T-Shirt  ₹ 349   \n",
       "4  No Guts Glory Boyfriend T-Shirt Black  ₹ 399   \n",
       "5       Life Is Good Half Sleeve T-Shirt  ₹ 349   \n",
       "6       Life Is Good Half Sleeve T-Shirt  ₹ 349   \n",
       "7         Beach Blue Half Sleeve T-Shirt  ₹ 249   \n",
       "8        Butta Bomma Half Sleeve T-Shirt  ₹ 349   \n",
       "9  Nenu Chepta Nuvvu Half Sleeve T-Shirt  ₹ 349   \n",
       "\n",
       "                                           Image_URL  \n",
       "0  https://images.bewakoof.com/t320/be-a-rainbow-...  \n",
       "1  https://images.bewakoof.com/t320/nenu-chepta-n...  \n",
       "2  https://images.bewakoof.com/t320/shanti-minima...  \n",
       "3  https://images.bewakoof.com/t320/nenu-chepta-n...  \n",
       "4  https://images.bewakoof.com/t320/no-guts-glory...  \n",
       "5  https://images.bewakoof.com/t320/life-is-good-...  \n",
       "6  https://images.bewakoof.com/t320/life-is-good-...  \n",
       "7  https://images.bewakoof.com/t320/aqua-sky-half...  \n",
       "8  https://images.bewakoof.com/t320/butta-bomma-h...  \n",
       "9  https://images.bewakoof.com/t320/nenu-chepta-n...  "
      ]
     },
     "execution_count": 90,
     "metadata": {},
     "output_type": "execute_result"
    }
   ],
   "source": [
    "# Resultant DataFrame\n",
    "\n",
    "data = pd.DataFrame({'Product_name':name,'Price':price,'Image_URL':image})\n",
    "data"
   ]
  },
  {
   "cell_type": "code",
   "execution_count": null,
   "id": "3a41ec64",
   "metadata": {},
   "outputs": [],
   "source": []
  }
 ],
 "metadata": {
  "kernelspec": {
   "display_name": "Python 3",
   "language": "python",
   "name": "python3"
  },
  "language_info": {
   "codemirror_mode": {
    "name": "ipython",
    "version": 3
   },
   "file_extension": ".py",
   "mimetype": "text/x-python",
   "name": "python",
   "nbconvert_exporter": "python",
   "pygments_lexer": "ipython3",
   "version": "3.8.8"
  }
 },
 "nbformat": 4,
 "nbformat_minor": 5
}
