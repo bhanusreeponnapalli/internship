{
 "cells": [
  {
   "cell_type": "raw",
   "id": "94391b6a",
   "metadata": {},
   "source": [
    "1. Which of the following operator is used to calucate remainder in division?\n",
    "Ans:- %"
   ]
  },
  {
   "cell_type": "raw",
   "id": "4848eef8",
   "metadata": {},
   "source": [
    "2.In python 2//3 is equal to?\n",
    "Ans:- 0"
   ]
  },
  {
   "cell_type": "raw",
   "id": "35528042",
   "metadata": {},
   "source": [
    "3. In python 6<<2 is equal to ?\n",
    "Ans:- 24"
   ]
  },
  {
   "cell_type": "raw",
   "id": "19564249",
   "metadata": {},
   "source": [
    "4.In python 6&2 will give which of the following as output?\n",
    "Ans:- 2"
   ]
  },
  {
   "cell_type": "raw",
   "id": "3e0bc3b5",
   "metadata": {},
   "source": [
    "5.In python 6|2 will give which of the following as output?\n",
    "Ans:- 6"
   ]
  },
  {
   "cell_type": "raw",
   "id": "e4731ab2",
   "metadata": {},
   "source": [
    "6.What does the finally keyword denotes in python?\n",
    "Ans:- The finally block will be executed no matter if the try block raises an error or not."
   ]
  },
  {
   "cell_type": "raw",
   "id": "7e354d14",
   "metadata": {},
   "source": [
    "7.What does raise key is used for in python?\n",
    "Ans:- It is used to raise an exception"
   ]
  },
  {
   "cell_type": "raw",
   "id": "1c4e5fd3",
   "metadata": {},
   "source": [
    "8.which of the following is a common use case of yield keyword in python?\n",
    "Ans:- in defining a generator"
   ]
  },
  {
   "cell_type": "raw",
   "id": "7b2528ac",
   "metadata": {},
   "source": [
    "9.Which of the following are the valid variable names?\n",
    "Ans:- _abc,abc2"
   ]
  },
  {
   "cell_type": "raw",
   "id": "a3c28916",
   "metadata": {},
   "source": [
    "10.Which of the following are the keywords in python?\n",
    "Ans:- yield,raise"
   ]
  },
  {
   "cell_type": "code",
   "execution_count": null,
   "id": "8e632dc3",
   "metadata": {},
   "outputs": [],
   "source": []
  },
  {
   "cell_type": "code",
   "execution_count": 12,
   "id": "9ffd1ef3",
   "metadata": {},
   "outputs": [],
   "source": [
    "import pandas as pd\n",
    "import numpy as np"
   ]
  },
  {
   "cell_type": "code",
   "execution_count": 11,
   "id": "4aaaaa63",
   "metadata": {},
   "outputs": [
    {
     "name": "stdout",
     "output_type": "stream",
     "text": [
      "Factorial of 5 is 120\n"
     ]
    }
   ],
   "source": [
    "#11. write a python program to find the factorial of a number\n",
    "\n",
    "def factorial(n):\n",
    "     \n",
    "    return 1 if (n==1 or n==0) else n * factorial(n - 1)\n",
    " \n",
    "\n",
    "num = 5\n",
    "print(\"Factorial of\",num,\"is\",factorial(num))\n",
    " \n"
   ]
  },
  {
   "cell_type": "code",
   "execution_count": 13,
   "id": "a712e118",
   "metadata": {},
   "outputs": [
    {
     "name": "stdout",
     "output_type": "stream",
     "text": [
      "Enter any number : 2\n",
      "2 is a PRIME number\n"
     ]
    }
   ],
   "source": [
    "#12. write a python program to find whether a number is prime or composite\n",
    "num = int(input(\"Enter any number : \"))\n",
    "if num > 1:\n",
    "    for i in range(2, num):\n",
    "        if (num % i) == 0:\n",
    "            print(num, \"is NOT a prime number\")\n",
    "            break\n",
    "    else:\n",
    "        print(num, \"is a PRIME number\")\n",
    "elif num == 0 or 1:\n",
    "     print(num, \"is a neither prime NOR composite number\")\n",
    "else:\n",
    "    print(num, \"is NOT a prime number it is a COMPOSITE number\")"
   ]
  },
  {
   "cell_type": "code",
   "execution_count": 24,
   "id": "ef86830f",
   "metadata": {},
   "outputs": [
    {
     "name": "stdout",
     "output_type": "stream",
     "text": [
      "Enter a string:madam\n",
      "The string is a palindrome\n"
     ]
    }
   ],
   "source": [
    "#13. write a python program to find wherther the given string is palindrome r not\n",
    "\n",
    "string=input((\"Enter a string:\"))\n",
    "if(string==string[::-1]):\n",
    "      print(\"The string is a palindrome\")\n",
    "else:\n",
    "      print(\"Not a palindrome\")"
   ]
  },
  {
   "cell_type": "code",
   "execution_count": 26,
   "id": "279326ac",
   "metadata": {},
   "outputs": [
    {
     "name": "stdout",
     "output_type": "stream",
     "text": [
      "Enter the height of the triangle10\n",
      "Enter the base of the triangle5\n",
      "Third side of the right angle triangle is: 11.180339887498949\n"
     ]
    }
   ],
   "source": [
    "#14. write a python program to get the third side of the right-angel triangle from two given  side\n",
    "# AC = sqrt(AB**2 + BC**2 )\n",
    "\n",
    "AB = float(input(\"Enter the height of the triangle\"))\n",
    "BC = float(input(\"Enter the base of the triangle\"))\n",
    "\n",
    "AC = np.sqrt((AB**2)+(BC**2))\n",
    "print(\"Third side of the right angle triangle is:\",AC)"
   ]
  },
  {
   "cell_type": "code",
   "execution_count": 35,
   "id": "547b9063",
   "metadata": {},
   "outputs": [
    {
     "name": "stdout",
     "output_type": "stream",
     "text": [
      "Enter the stringhello welcome\n",
      "h occured 1 times\n",
      "e occured 3 times\n",
      "l occured 3 times\n",
      "o occured 2 times\n",
      "  occured 1 times\n",
      "w occured 1 times\n",
      "c occured 1 times\n",
      "m occured 1 times\n"
     ]
    }
   ],
   "source": [
    "#15. write a python program to print the frequency of each of the character present in a given string\n",
    "string = input(\"Enter the string\")\n",
    "list = []\n",
    "for ch in string:\n",
    "    if ch not in list:\n",
    "        list.append(ch)\n",
    "        print(ch,\"occured\",string.count(ch),\"times\")"
   ]
  },
  {
   "cell_type": "code",
   "execution_count": null,
   "id": "08ce47df",
   "metadata": {},
   "outputs": [],
   "source": []
  },
  {
   "cell_type": "code",
   "execution_count": null,
   "id": "bac230c9",
   "metadata": {},
   "outputs": [],
   "source": []
  },
  {
   "cell_type": "code",
   "execution_count": null,
   "id": "66d26ce8",
   "metadata": {},
   "outputs": [],
   "source": []
  },
  {
   "cell_type": "code",
   "execution_count": null,
   "id": "5a23f7ed",
   "metadata": {},
   "outputs": [],
   "source": []
  },
  {
   "cell_type": "code",
   "execution_count": null,
   "id": "93bd3c97",
   "metadata": {},
   "outputs": [],
   "source": []
  }
 ],
 "metadata": {
  "kernelspec": {
   "display_name": "Python 3",
   "language": "python",
   "name": "python3"
  },
  "language_info": {
   "codemirror_mode": {
    "name": "ipython",
    "version": 3
   },
   "file_extension": ".py",
   "mimetype": "text/x-python",
   "name": "python",
   "nbconvert_exporter": "python",
   "pygments_lexer": "ipython3",
   "version": "3.8.8"
  }
 },
 "nbformat": 4,
 "nbformat_minor": 5
}
